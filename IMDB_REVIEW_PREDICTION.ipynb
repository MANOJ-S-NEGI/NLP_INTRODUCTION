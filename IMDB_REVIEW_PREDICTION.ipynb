{
  "nbformat": 4,
  "nbformat_minor": 0,
  "metadata": {
    "colab": {
      "provenance": [],
      "gpuType": "T4",
      "mount_file_id": "1_t5_VozW8eTSDLYS3RR17kO40X4PWCv6",
      "authorship_tag": "ABX9TyNpHgDNQHXx+xvsNB64Kg4k",
      "include_colab_link": true
    },
    "kernelspec": {
      "name": "python3",
      "display_name": "Python 3"
    },
    "language_info": {
      "name": "python"
    },
    "accelerator": "GPU"
  },
  "cells": [
    {
      "cell_type": "markdown",
      "metadata": {
        "id": "view-in-github",
        "colab_type": "text"
      },
      "source": [
        "<a href=\"https://colab.research.google.com/github/MANOJ-S-NEGI/NLP_INTRODUCTION/blob/main/IMDB_REVIEW_PREDICTION.ipynb\" target=\"_parent\"><img src=\"https://colab.research.google.com/assets/colab-badge.svg\" alt=\"Open In Colab\"/></a>"
      ]
    },
    {
      "cell_type": "markdown",
      "source": [
        "About Dataset\n",
        "\n",
        "IMDB dataset having 50K movie reviews for natural language processing or Text analytics.\n",
        "\n",
        "This is a dataset for binary sentiment classification containing substantially more data than previous benchmark datasets. We provide a set of 25,000 highly polar movie reviews for training and 25,000 for testing.\n",
        "\n",
        "So, predict the number of positive and negative reviews using either classification or deep learning algorithms."
      ],
      "metadata": {
        "id": "Zk5vUFQ7O-MI"
      }
    },
    {
      "cell_type": "code",
      "execution_count": 1,
      "metadata": {
        "id": "YsBO3B83OrOD"
      },
      "outputs": [],
      "source": [
        "import pandas as pd\n",
        "import numpy as np\n",
        "import string\n",
        "import re\n",
        "import nltk\n",
        "import tensorflow as tf"
      ]
    },
    {
      "cell_type": "code",
      "source": [
        "## data csv\n",
        "path = \"/content/drive/MyDrive/IMDB Dataset.csv\"\n",
        "data = pd.read_csv(path)\n",
        "data.head()"
      ],
      "metadata": {
        "colab": {
          "base_uri": "https://localhost:8080/",
          "height": 206
        },
        "id": "e-sraoTnPGfX",
        "outputId": "793a4e72-ba3b-41d5-8d08-1948553c0a99"
      },
      "execution_count": 2,
      "outputs": [
        {
          "output_type": "execute_result",
          "data": {
            "text/plain": [
              "                                              review sentiment\n",
              "0  One of the other reviewers has mentioned that ...  positive\n",
              "1  A wonderful little production. <br /><br />The...  positive\n",
              "2  I thought this was a wonderful way to spend ti...  positive\n",
              "3  Basically there's a family where a little boy ...  negative\n",
              "4  Petter Mattei's \"Love in the Time of Money\" is...  positive"
            ],
            "text/html": [
              "\n",
              "  <div id=\"df-0d8ccc0e-efda-4af1-9370-dd4db646f2ed\" class=\"colab-df-container\">\n",
              "    <div>\n",
              "<style scoped>\n",
              "    .dataframe tbody tr th:only-of-type {\n",
              "        vertical-align: middle;\n",
              "    }\n",
              "\n",
              "    .dataframe tbody tr th {\n",
              "        vertical-align: top;\n",
              "    }\n",
              "\n",
              "    .dataframe thead th {\n",
              "        text-align: right;\n",
              "    }\n",
              "</style>\n",
              "<table border=\"1\" class=\"dataframe\">\n",
              "  <thead>\n",
              "    <tr style=\"text-align: right;\">\n",
              "      <th></th>\n",
              "      <th>review</th>\n",
              "      <th>sentiment</th>\n",
              "    </tr>\n",
              "  </thead>\n",
              "  <tbody>\n",
              "    <tr>\n",
              "      <th>0</th>\n",
              "      <td>One of the other reviewers has mentioned that ...</td>\n",
              "      <td>positive</td>\n",
              "    </tr>\n",
              "    <tr>\n",
              "      <th>1</th>\n",
              "      <td>A wonderful little production. &lt;br /&gt;&lt;br /&gt;The...</td>\n",
              "      <td>positive</td>\n",
              "    </tr>\n",
              "    <tr>\n",
              "      <th>2</th>\n",
              "      <td>I thought this was a wonderful way to spend ti...</td>\n",
              "      <td>positive</td>\n",
              "    </tr>\n",
              "    <tr>\n",
              "      <th>3</th>\n",
              "      <td>Basically there's a family where a little boy ...</td>\n",
              "      <td>negative</td>\n",
              "    </tr>\n",
              "    <tr>\n",
              "      <th>4</th>\n",
              "      <td>Petter Mattei's \"Love in the Time of Money\" is...</td>\n",
              "      <td>positive</td>\n",
              "    </tr>\n",
              "  </tbody>\n",
              "</table>\n",
              "</div>\n",
              "    <div class=\"colab-df-buttons\">\n",
              "\n",
              "  <div class=\"colab-df-container\">\n",
              "    <button class=\"colab-df-convert\" onclick=\"convertToInteractive('df-0d8ccc0e-efda-4af1-9370-dd4db646f2ed')\"\n",
              "            title=\"Convert this dataframe to an interactive table.\"\n",
              "            style=\"display:none;\">\n",
              "\n",
              "  <svg xmlns=\"http://www.w3.org/2000/svg\" height=\"24px\" viewBox=\"0 -960 960 960\">\n",
              "    <path d=\"M120-120v-720h720v720H120Zm60-500h600v-160H180v160Zm220 220h160v-160H400v160Zm0 220h160v-160H400v160ZM180-400h160v-160H180v160Zm440 0h160v-160H620v160ZM180-180h160v-160H180v160Zm440 0h160v-160H620v160Z\"/>\n",
              "  </svg>\n",
              "    </button>\n",
              "\n",
              "  <style>\n",
              "    .colab-df-container {\n",
              "      display:flex;\n",
              "      gap: 12px;\n",
              "    }\n",
              "\n",
              "    .colab-df-convert {\n",
              "      background-color: #E8F0FE;\n",
              "      border: none;\n",
              "      border-radius: 50%;\n",
              "      cursor: pointer;\n",
              "      display: none;\n",
              "      fill: #1967D2;\n",
              "      height: 32px;\n",
              "      padding: 0 0 0 0;\n",
              "      width: 32px;\n",
              "    }\n",
              "\n",
              "    .colab-df-convert:hover {\n",
              "      background-color: #E2EBFA;\n",
              "      box-shadow: 0px 1px 2px rgba(60, 64, 67, 0.3), 0px 1px 3px 1px rgba(60, 64, 67, 0.15);\n",
              "      fill: #174EA6;\n",
              "    }\n",
              "\n",
              "    .colab-df-buttons div {\n",
              "      margin-bottom: 4px;\n",
              "    }\n",
              "\n",
              "    [theme=dark] .colab-df-convert {\n",
              "      background-color: #3B4455;\n",
              "      fill: #D2E3FC;\n",
              "    }\n",
              "\n",
              "    [theme=dark] .colab-df-convert:hover {\n",
              "      background-color: #434B5C;\n",
              "      box-shadow: 0px 1px 3px 1px rgba(0, 0, 0, 0.15);\n",
              "      filter: drop-shadow(0px 1px 2px rgba(0, 0, 0, 0.3));\n",
              "      fill: #FFFFFF;\n",
              "    }\n",
              "  </style>\n",
              "\n",
              "    <script>\n",
              "      const buttonEl =\n",
              "        document.querySelector('#df-0d8ccc0e-efda-4af1-9370-dd4db646f2ed button.colab-df-convert');\n",
              "      buttonEl.style.display =\n",
              "        google.colab.kernel.accessAllowed ? 'block' : 'none';\n",
              "\n",
              "      async function convertToInteractive(key) {\n",
              "        const element = document.querySelector('#df-0d8ccc0e-efda-4af1-9370-dd4db646f2ed');\n",
              "        const dataTable =\n",
              "          await google.colab.kernel.invokeFunction('convertToInteractive',\n",
              "                                                    [key], {});\n",
              "        if (!dataTable) return;\n",
              "\n",
              "        const docLinkHtml = 'Like what you see? Visit the ' +\n",
              "          '<a target=\"_blank\" href=https://colab.research.google.com/notebooks/data_table.ipynb>data table notebook</a>'\n",
              "          + ' to learn more about interactive tables.';\n",
              "        element.innerHTML = '';\n",
              "        dataTable['output_type'] = 'display_data';\n",
              "        await google.colab.output.renderOutput(dataTable, element);\n",
              "        const docLink = document.createElement('div');\n",
              "        docLink.innerHTML = docLinkHtml;\n",
              "        element.appendChild(docLink);\n",
              "      }\n",
              "    </script>\n",
              "  </div>\n",
              "\n",
              "\n",
              "<div id=\"df-44865946-4ed0-453e-ba01-5987246c9e48\">\n",
              "  <button class=\"colab-df-quickchart\" onclick=\"quickchart('df-44865946-4ed0-453e-ba01-5987246c9e48')\"\n",
              "            title=\"Suggest charts.\"\n",
              "            style=\"display:none;\">\n",
              "\n",
              "<svg xmlns=\"http://www.w3.org/2000/svg\" height=\"24px\"viewBox=\"0 0 24 24\"\n",
              "     width=\"24px\">\n",
              "    <g>\n",
              "        <path d=\"M19 3H5c-1.1 0-2 .9-2 2v14c0 1.1.9 2 2 2h14c1.1 0 2-.9 2-2V5c0-1.1-.9-2-2-2zM9 17H7v-7h2v7zm4 0h-2V7h2v10zm4 0h-2v-4h2v4z\"/>\n",
              "    </g>\n",
              "</svg>\n",
              "  </button>\n",
              "\n",
              "<style>\n",
              "  .colab-df-quickchart {\n",
              "      --bg-color: #E8F0FE;\n",
              "      --fill-color: #1967D2;\n",
              "      --hover-bg-color: #E2EBFA;\n",
              "      --hover-fill-color: #174EA6;\n",
              "      --disabled-fill-color: #AAA;\n",
              "      --disabled-bg-color: #DDD;\n",
              "  }\n",
              "\n",
              "  [theme=dark] .colab-df-quickchart {\n",
              "      --bg-color: #3B4455;\n",
              "      --fill-color: #D2E3FC;\n",
              "      --hover-bg-color: #434B5C;\n",
              "      --hover-fill-color: #FFFFFF;\n",
              "      --disabled-bg-color: #3B4455;\n",
              "      --disabled-fill-color: #666;\n",
              "  }\n",
              "\n",
              "  .colab-df-quickchart {\n",
              "    background-color: var(--bg-color);\n",
              "    border: none;\n",
              "    border-radius: 50%;\n",
              "    cursor: pointer;\n",
              "    display: none;\n",
              "    fill: var(--fill-color);\n",
              "    height: 32px;\n",
              "    padding: 0;\n",
              "    width: 32px;\n",
              "  }\n",
              "\n",
              "  .colab-df-quickchart:hover {\n",
              "    background-color: var(--hover-bg-color);\n",
              "    box-shadow: 0 1px 2px rgba(60, 64, 67, 0.3), 0 1px 3px 1px rgba(60, 64, 67, 0.15);\n",
              "    fill: var(--button-hover-fill-color);\n",
              "  }\n",
              "\n",
              "  .colab-df-quickchart-complete:disabled,\n",
              "  .colab-df-quickchart-complete:disabled:hover {\n",
              "    background-color: var(--disabled-bg-color);\n",
              "    fill: var(--disabled-fill-color);\n",
              "    box-shadow: none;\n",
              "  }\n",
              "\n",
              "  .colab-df-spinner {\n",
              "    border: 2px solid var(--fill-color);\n",
              "    border-color: transparent;\n",
              "    border-bottom-color: var(--fill-color);\n",
              "    animation:\n",
              "      spin 1s steps(1) infinite;\n",
              "  }\n",
              "\n",
              "  @keyframes spin {\n",
              "    0% {\n",
              "      border-color: transparent;\n",
              "      border-bottom-color: var(--fill-color);\n",
              "      border-left-color: var(--fill-color);\n",
              "    }\n",
              "    20% {\n",
              "      border-color: transparent;\n",
              "      border-left-color: var(--fill-color);\n",
              "      border-top-color: var(--fill-color);\n",
              "    }\n",
              "    30% {\n",
              "      border-color: transparent;\n",
              "      border-left-color: var(--fill-color);\n",
              "      border-top-color: var(--fill-color);\n",
              "      border-right-color: var(--fill-color);\n",
              "    }\n",
              "    40% {\n",
              "      border-color: transparent;\n",
              "      border-right-color: var(--fill-color);\n",
              "      border-top-color: var(--fill-color);\n",
              "    }\n",
              "    60% {\n",
              "      border-color: transparent;\n",
              "      border-right-color: var(--fill-color);\n",
              "    }\n",
              "    80% {\n",
              "      border-color: transparent;\n",
              "      border-right-color: var(--fill-color);\n",
              "      border-bottom-color: var(--fill-color);\n",
              "    }\n",
              "    90% {\n",
              "      border-color: transparent;\n",
              "      border-bottom-color: var(--fill-color);\n",
              "    }\n",
              "  }\n",
              "</style>\n",
              "\n",
              "  <script>\n",
              "    async function quickchart(key) {\n",
              "      const quickchartButtonEl =\n",
              "        document.querySelector('#' + key + ' button');\n",
              "      quickchartButtonEl.disabled = true;  // To prevent multiple clicks.\n",
              "      quickchartButtonEl.classList.add('colab-df-spinner');\n",
              "      try {\n",
              "        const charts = await google.colab.kernel.invokeFunction(\n",
              "            'suggestCharts', [key], {});\n",
              "      } catch (error) {\n",
              "        console.error('Error during call to suggestCharts:', error);\n",
              "      }\n",
              "      quickchartButtonEl.classList.remove('colab-df-spinner');\n",
              "      quickchartButtonEl.classList.add('colab-df-quickchart-complete');\n",
              "    }\n",
              "    (() => {\n",
              "      let quickchartButtonEl =\n",
              "        document.querySelector('#df-44865946-4ed0-453e-ba01-5987246c9e48 button');\n",
              "      quickchartButtonEl.style.display =\n",
              "        google.colab.kernel.accessAllowed ? 'block' : 'none';\n",
              "    })();\n",
              "  </script>\n",
              "</div>\n",
              "    </div>\n",
              "  </div>\n"
            ]
          },
          "metadata": {},
          "execution_count": 2
        }
      ]
    },
    {
      "cell_type": "code",
      "source": [
        "## taking data sample size with 100 reviews:\n",
        "df = data[:300].copy()\n",
        "print(f\"df shape: {df.shape}\")\n",
        "print(f\"sample df \\n\")\n",
        "df.sample(2)"
      ],
      "metadata": {
        "colab": {
          "base_uri": "https://localhost:8080/",
          "height": 164
        },
        "id": "Mj6ZRIsEPXW3",
        "outputId": "939950e4-eefc-4089-84ff-55f347a18665"
      },
      "execution_count": 3,
      "outputs": [
        {
          "output_type": "stream",
          "name": "stdout",
          "text": [
            "df shape: (300, 2)\n",
            "sample df \n",
            "\n"
          ]
        },
        {
          "output_type": "execute_result",
          "data": {
            "text/plain": [
              "                                                review sentiment\n",
              "168  The premise of this movie was decent enough, b...  negative\n",
              "52   Bela Lugosi appeared in several of these low b...  positive"
            ],
            "text/html": [
              "\n",
              "  <div id=\"df-8b246968-f14c-4375-9f73-d6f552e77b79\" class=\"colab-df-container\">\n",
              "    <div>\n",
              "<style scoped>\n",
              "    .dataframe tbody tr th:only-of-type {\n",
              "        vertical-align: middle;\n",
              "    }\n",
              "\n",
              "    .dataframe tbody tr th {\n",
              "        vertical-align: top;\n",
              "    }\n",
              "\n",
              "    .dataframe thead th {\n",
              "        text-align: right;\n",
              "    }\n",
              "</style>\n",
              "<table border=\"1\" class=\"dataframe\">\n",
              "  <thead>\n",
              "    <tr style=\"text-align: right;\">\n",
              "      <th></th>\n",
              "      <th>review</th>\n",
              "      <th>sentiment</th>\n",
              "    </tr>\n",
              "  </thead>\n",
              "  <tbody>\n",
              "    <tr>\n",
              "      <th>168</th>\n",
              "      <td>The premise of this movie was decent enough, b...</td>\n",
              "      <td>negative</td>\n",
              "    </tr>\n",
              "    <tr>\n",
              "      <th>52</th>\n",
              "      <td>Bela Lugosi appeared in several of these low b...</td>\n",
              "      <td>positive</td>\n",
              "    </tr>\n",
              "  </tbody>\n",
              "</table>\n",
              "</div>\n",
              "    <div class=\"colab-df-buttons\">\n",
              "\n",
              "  <div class=\"colab-df-container\">\n",
              "    <button class=\"colab-df-convert\" onclick=\"convertToInteractive('df-8b246968-f14c-4375-9f73-d6f552e77b79')\"\n",
              "            title=\"Convert this dataframe to an interactive table.\"\n",
              "            style=\"display:none;\">\n",
              "\n",
              "  <svg xmlns=\"http://www.w3.org/2000/svg\" height=\"24px\" viewBox=\"0 -960 960 960\">\n",
              "    <path d=\"M120-120v-720h720v720H120Zm60-500h600v-160H180v160Zm220 220h160v-160H400v160Zm0 220h160v-160H400v160ZM180-400h160v-160H180v160Zm440 0h160v-160H620v160ZM180-180h160v-160H180v160Zm440 0h160v-160H620v160Z\"/>\n",
              "  </svg>\n",
              "    </button>\n",
              "\n",
              "  <style>\n",
              "    .colab-df-container {\n",
              "      display:flex;\n",
              "      gap: 12px;\n",
              "    }\n",
              "\n",
              "    .colab-df-convert {\n",
              "      background-color: #E8F0FE;\n",
              "      border: none;\n",
              "      border-radius: 50%;\n",
              "      cursor: pointer;\n",
              "      display: none;\n",
              "      fill: #1967D2;\n",
              "      height: 32px;\n",
              "      padding: 0 0 0 0;\n",
              "      width: 32px;\n",
              "    }\n",
              "\n",
              "    .colab-df-convert:hover {\n",
              "      background-color: #E2EBFA;\n",
              "      box-shadow: 0px 1px 2px rgba(60, 64, 67, 0.3), 0px 1px 3px 1px rgba(60, 64, 67, 0.15);\n",
              "      fill: #174EA6;\n",
              "    }\n",
              "\n",
              "    .colab-df-buttons div {\n",
              "      margin-bottom: 4px;\n",
              "    }\n",
              "\n",
              "    [theme=dark] .colab-df-convert {\n",
              "      background-color: #3B4455;\n",
              "      fill: #D2E3FC;\n",
              "    }\n",
              "\n",
              "    [theme=dark] .colab-df-convert:hover {\n",
              "      background-color: #434B5C;\n",
              "      box-shadow: 0px 1px 3px 1px rgba(0, 0, 0, 0.15);\n",
              "      filter: drop-shadow(0px 1px 2px rgba(0, 0, 0, 0.3));\n",
              "      fill: #FFFFFF;\n",
              "    }\n",
              "  </style>\n",
              "\n",
              "    <script>\n",
              "      const buttonEl =\n",
              "        document.querySelector('#df-8b246968-f14c-4375-9f73-d6f552e77b79 button.colab-df-convert');\n",
              "      buttonEl.style.display =\n",
              "        google.colab.kernel.accessAllowed ? 'block' : 'none';\n",
              "\n",
              "      async function convertToInteractive(key) {\n",
              "        const element = document.querySelector('#df-8b246968-f14c-4375-9f73-d6f552e77b79');\n",
              "        const dataTable =\n",
              "          await google.colab.kernel.invokeFunction('convertToInteractive',\n",
              "                                                    [key], {});\n",
              "        if (!dataTable) return;\n",
              "\n",
              "        const docLinkHtml = 'Like what you see? Visit the ' +\n",
              "          '<a target=\"_blank\" href=https://colab.research.google.com/notebooks/data_table.ipynb>data table notebook</a>'\n",
              "          + ' to learn more about interactive tables.';\n",
              "        element.innerHTML = '';\n",
              "        dataTable['output_type'] = 'display_data';\n",
              "        await google.colab.output.renderOutput(dataTable, element);\n",
              "        const docLink = document.createElement('div');\n",
              "        docLink.innerHTML = docLinkHtml;\n",
              "        element.appendChild(docLink);\n",
              "      }\n",
              "    </script>\n",
              "  </div>\n",
              "\n",
              "\n",
              "<div id=\"df-2e141f69-cf41-4642-b64c-cb1d95d7c137\">\n",
              "  <button class=\"colab-df-quickchart\" onclick=\"quickchart('df-2e141f69-cf41-4642-b64c-cb1d95d7c137')\"\n",
              "            title=\"Suggest charts.\"\n",
              "            style=\"display:none;\">\n",
              "\n",
              "<svg xmlns=\"http://www.w3.org/2000/svg\" height=\"24px\"viewBox=\"0 0 24 24\"\n",
              "     width=\"24px\">\n",
              "    <g>\n",
              "        <path d=\"M19 3H5c-1.1 0-2 .9-2 2v14c0 1.1.9 2 2 2h14c1.1 0 2-.9 2-2V5c0-1.1-.9-2-2-2zM9 17H7v-7h2v7zm4 0h-2V7h2v10zm4 0h-2v-4h2v4z\"/>\n",
              "    </g>\n",
              "</svg>\n",
              "  </button>\n",
              "\n",
              "<style>\n",
              "  .colab-df-quickchart {\n",
              "      --bg-color: #E8F0FE;\n",
              "      --fill-color: #1967D2;\n",
              "      --hover-bg-color: #E2EBFA;\n",
              "      --hover-fill-color: #174EA6;\n",
              "      --disabled-fill-color: #AAA;\n",
              "      --disabled-bg-color: #DDD;\n",
              "  }\n",
              "\n",
              "  [theme=dark] .colab-df-quickchart {\n",
              "      --bg-color: #3B4455;\n",
              "      --fill-color: #D2E3FC;\n",
              "      --hover-bg-color: #434B5C;\n",
              "      --hover-fill-color: #FFFFFF;\n",
              "      --disabled-bg-color: #3B4455;\n",
              "      --disabled-fill-color: #666;\n",
              "  }\n",
              "\n",
              "  .colab-df-quickchart {\n",
              "    background-color: var(--bg-color);\n",
              "    border: none;\n",
              "    border-radius: 50%;\n",
              "    cursor: pointer;\n",
              "    display: none;\n",
              "    fill: var(--fill-color);\n",
              "    height: 32px;\n",
              "    padding: 0;\n",
              "    width: 32px;\n",
              "  }\n",
              "\n",
              "  .colab-df-quickchart:hover {\n",
              "    background-color: var(--hover-bg-color);\n",
              "    box-shadow: 0 1px 2px rgba(60, 64, 67, 0.3), 0 1px 3px 1px rgba(60, 64, 67, 0.15);\n",
              "    fill: var(--button-hover-fill-color);\n",
              "  }\n",
              "\n",
              "  .colab-df-quickchart-complete:disabled,\n",
              "  .colab-df-quickchart-complete:disabled:hover {\n",
              "    background-color: var(--disabled-bg-color);\n",
              "    fill: var(--disabled-fill-color);\n",
              "    box-shadow: none;\n",
              "  }\n",
              "\n",
              "  .colab-df-spinner {\n",
              "    border: 2px solid var(--fill-color);\n",
              "    border-color: transparent;\n",
              "    border-bottom-color: var(--fill-color);\n",
              "    animation:\n",
              "      spin 1s steps(1) infinite;\n",
              "  }\n",
              "\n",
              "  @keyframes spin {\n",
              "    0% {\n",
              "      border-color: transparent;\n",
              "      border-bottom-color: var(--fill-color);\n",
              "      border-left-color: var(--fill-color);\n",
              "    }\n",
              "    20% {\n",
              "      border-color: transparent;\n",
              "      border-left-color: var(--fill-color);\n",
              "      border-top-color: var(--fill-color);\n",
              "    }\n",
              "    30% {\n",
              "      border-color: transparent;\n",
              "      border-left-color: var(--fill-color);\n",
              "      border-top-color: var(--fill-color);\n",
              "      border-right-color: var(--fill-color);\n",
              "    }\n",
              "    40% {\n",
              "      border-color: transparent;\n",
              "      border-right-color: var(--fill-color);\n",
              "      border-top-color: var(--fill-color);\n",
              "    }\n",
              "    60% {\n",
              "      border-color: transparent;\n",
              "      border-right-color: var(--fill-color);\n",
              "    }\n",
              "    80% {\n",
              "      border-color: transparent;\n",
              "      border-right-color: var(--fill-color);\n",
              "      border-bottom-color: var(--fill-color);\n",
              "    }\n",
              "    90% {\n",
              "      border-color: transparent;\n",
              "      border-bottom-color: var(--fill-color);\n",
              "    }\n",
              "  }\n",
              "</style>\n",
              "\n",
              "  <script>\n",
              "    async function quickchart(key) {\n",
              "      const quickchartButtonEl =\n",
              "        document.querySelector('#' + key + ' button');\n",
              "      quickchartButtonEl.disabled = true;  // To prevent multiple clicks.\n",
              "      quickchartButtonEl.classList.add('colab-df-spinner');\n",
              "      try {\n",
              "        const charts = await google.colab.kernel.invokeFunction(\n",
              "            'suggestCharts', [key], {});\n",
              "      } catch (error) {\n",
              "        console.error('Error during call to suggestCharts:', error);\n",
              "      }\n",
              "      quickchartButtonEl.classList.remove('colab-df-spinner');\n",
              "      quickchartButtonEl.classList.add('colab-df-quickchart-complete');\n",
              "    }\n",
              "    (() => {\n",
              "      let quickchartButtonEl =\n",
              "        document.querySelector('#df-2e141f69-cf41-4642-b64c-cb1d95d7c137 button');\n",
              "      quickchartButtonEl.style.display =\n",
              "        google.colab.kernel.accessAllowed ? 'block' : 'none';\n",
              "    })();\n",
              "  </script>\n",
              "</div>\n",
              "    </div>\n",
              "  </div>\n"
            ]
          },
          "metadata": {},
          "execution_count": 3
        }
      ]
    },
    {
      "cell_type": "markdown",
      "source": [
        "- working data frame is 'df'\n"
      ],
      "metadata": {
        "id": "hX6AprE2QOVT"
      }
    },
    {
      "cell_type": "code",
      "source": [
        "df.review[10]"
      ],
      "metadata": {
        "colab": {
          "base_uri": "https://localhost:8080/",
          "height": 70
        },
        "id": "nPvKbNMIQNv_",
        "outputId": "887e0551-8254-4a0d-e3b4-aef99c2bdfaf"
      },
      "execution_count": 4,
      "outputs": [
        {
          "output_type": "execute_result",
          "data": {
            "text/plain": [
              "'Phil the Alien is one of those quirky films where the humour is based around the oddness of everything rather than actual punchlines.<br /><br />At first it was very odd and pretty funny but as the movie progressed I didn\\'t find the jokes or oddness funny anymore.<br /><br />Its a low budget film (thats never a problem in itself), there were some pretty interesting characters, but eventually I just lost interest.<br /><br />I imagine this film would appeal to a stoner who is currently partaking.<br /><br />For something similar but better try \"Brother from another planet\"'"
            ],
            "application/vnd.google.colaboratory.intrinsic+json": {
              "type": "string"
            }
          },
          "metadata": {},
          "execution_count": 4
        }
      ]
    },
    {
      "cell_type": "code",
      "source": [
        "## removing the tag and possible https links:\n",
        "link_html_tag_pattern = [r'<.*?>', r'https://\\S+',r'\\d+']\n",
        "short_hand_pattern = r'\\b[A-Z]{2,}\\b'\n",
        "multiple_dot_pattern = r'\\.{2,}'\n",
        "\n",
        "# set first counter 0\n",
        "counter = 0\n",
        "short_hand_list = []\n",
        "\n",
        "\n",
        "for i in df.review:                                     # loop into df reviews\n",
        "    try:\n",
        "        for tag in link_html_tag_pattern:               ## loop into pattern:\n",
        "            i = re.sub(tag, '', i)                      ## subtituting pattern in review\n",
        "\n",
        "        i = re.sub(multiple_dot_pattern, '.', i)\n",
        "        short_forms = re.findall(short_hand_pattern, i) ## checking any short hand like \"ASAP\"\n",
        "\n",
        "        if short_forms is not None:\n",
        "           short_hand_list.append(short_forms)         ## append to list\n",
        "        df.loc[counter, 'review'] = i                  ## update review\n",
        "\n",
        "    except Exception as e:\n",
        "        print(f\"Error processing review {counter}: {e}\")\n",
        "\n",
        "    counter = counter + 1\n"
      ],
      "metadata": {
        "id": "sPi_r2o_P3FM"
      },
      "execution_count": 5,
      "outputs": []
    },
    {
      "cell_type": "code",
      "source": [
        "df.review[0]"
      ],
      "metadata": {
        "colab": {
          "base_uri": "https://localhost:8080/",
          "height": 105
        },
        "id": "cZsB2y3YRPx_",
        "outputId": "878db285-5175-4847-81ae-73cb53edcc80"
      },
      "execution_count": 6,
      "outputs": [
        {
          "output_type": "execute_result",
          "data": {
            "text/plain": [
              "\"One of the other reviewers has mentioned that after watching just  Oz episode you'll be hooked. They are right, as this is exactly what happened with me.The first thing that struck me about Oz was its brutality and unflinching scenes of violence, which set in right from the word GO. Trust me, this is not a show for the faint hearted or timid. This show pulls no punches with regards to drugs, sex or violence. Its is hardcore, in the classic use of the word.It is called OZ as that is the nickname given to the Oswald Maximum Security State Penitentary. It focuses mainly on Emerald City, an experimental section of the prison where all the cells have glass fronts and face inwards, so privacy is not high on the agenda. Em City is home to many.Aryans, Muslims, gangstas, Latinos, Christians, Italians, Irish and more.so scuffles, death stares, dodgy dealings and shady agreements are never far away.I would say the main appeal of the show is due to the fact that it goes where other shows wouldn't dare. Forget pretty pictures painted for mainstream audiences, forget charm, forget romance.OZ doesn't mess around. The first episode I ever saw struck me as so nasty it was surreal, I couldn't say I was ready for it, but as I watched more, I developed a taste for Oz, and got accustomed to the high levels of graphic violence. Not just violence, but injustice (crooked guards who'll be sold out for a nickel, inmates who'll kill on order and get away with it, well mannered, middle class inmates being turned into prison bitches due to their lack of street skills or prison experience) Watching Oz, you may become comfortable with what is uncomfortable viewing.thats if you can get in touch with your darker side.\""
            ],
            "application/vnd.google.colaboratory.intrinsic+json": {
              "type": "string"
            }
          },
          "metadata": {},
          "execution_count": 6
        }
      ]
    },
    {
      "cell_type": "code",
      "source": [
        "## checking the possibe word like ASAP\n",
        "for i in short_hand_list:\n",
        "    if i == []:\n",
        "        pass\n",
        "    else:\n",
        "        print(f\"all short abbreviations: {set(i)}\")"
      ],
      "metadata": {
        "colab": {
          "base_uri": "https://localhost:8080/"
        },
        "id": "WYiRLCrLXsLZ",
        "outputId": "1251f968-fbe4-498c-ed1c-cced433213d7"
      },
      "execution_count": 7,
      "outputs": [
        {
          "output_type": "stream",
          "name": "stdout",
          "text": [
            "all short abbreviations: {'OZ', 'GO'}\n",
            "all short abbreviations: {'BBC'}\n",
            "all short abbreviations: {'OK', 'BOOGEYMAN'}\n",
            "all short abbreviations: {'TV'}\n",
            "all short abbreviations: {'FAR', 'SPOILER', 'GMS', 'BTW', 'CRY'}\n",
            "all short abbreviations: {'WAS', 'LOTR'}\n",
            "all short abbreviations: {'DVD'}\n",
            "all short abbreviations: {'SO'}\n",
            "all short abbreviations: {'FX', 'VERY', 'RACER', 'AM', 'MSTK', 'WWWAAAAAYYYYY', 'DVD', 'BOOM', 'DO', 'VHS', 'SPEED'}\n",
            "all short abbreviations: {'USA'}\n",
            "all short abbreviations: {'THREE', 'KINGS', 'WAR', 'INC'}\n",
            "all short abbreviations: {'DC'}\n",
            "all short abbreviations: {'KNOWS'}\n",
            "all short abbreviations: {'PG'}\n",
            "all short abbreviations: {'UK', 'IS'}\n",
            "all short abbreviations: {'MA', 'ANYONE', 'LOGIC', 'FBI'}\n",
            "all short abbreviations: {'SOMEONE'}\n",
            "all short abbreviations: {'WOULD', 'TV', 'VHS', 'DVD'}\n",
            "all short abbreviations: {'CV'}\n",
            "all short abbreviations: {'BOOK', 'KANE', 'CITIZEN', 'GLORY', 'THE', 'AND', 'POWER'}\n",
            "all short abbreviations: {'SPOILER', 'WWI', 'ALERT', 'SPOILERS', 'US'}\n",
            "all short abbreviations: {'VCR', 'IMDB'}\n",
            "all short abbreviations: {'REALLY', 'REAL', 'GREAT'}\n",
            "all short abbreviations: {'II'}\n",
            "all short abbreviations: {'SPOILERS', 'II', 'NO', 'NYC'}\n",
            "all short abbreviations: {'II'}\n",
            "all short abbreviations: {'JJL'}\n",
            "all short abbreviations: {'OK'}\n",
            "all short abbreviations: {'DON', 'DUCKLING', 'TORTURE'}\n",
            "all short abbreviations: {'IV', 'STV', 'PVC', 'DVD'}\n",
            "all short abbreviations: {'DVD'}\n",
            "all short abbreviations: {'DOWN', 'HP', 'OK', 'DC', 'THUMBS'}\n",
            "all short abbreviations: {'NASA'}\n",
            "all short abbreviations: {'II', 'BMW'}\n",
            "all short abbreviations: {'VISITOR', 'GENESIS', 'DVD', 'AFTERMATH', 'NEKROMANTIK'}\n",
            "all short abbreviations: {'PM'}\n",
            "all short abbreviations: {'DVD'}\n",
            "all short abbreviations: {'HISTORICALLY'}\n",
            "all short abbreviations: {'BRAVO', 'HBO', 'UNDERRATED'}\n",
            "all short abbreviations: {'TERRIBLE'}\n",
            "all short abbreviations: {'ALL'}\n",
            "all short abbreviations: {'OK', 'NOT'}\n",
            "all short abbreviations: {'BOTH'}\n",
            "all short abbreviations: {'II'}\n",
            "all short abbreviations: {'USS', 'DVD', 'VHS'}\n",
            "all short abbreviations: {'REC', 'ONE', 'XX'}\n",
            "all short abbreviations: {'LASTING', 'ALL', 'RED'}\n",
            "all short abbreviations: {'WORST', 'ANYTHING', 'BORING', 'EXTREMELY'}\n",
            "all short abbreviations: {'BAD', 'EVER', 'IS', 'NOT'}\n",
            "all short abbreviations: {'TV'}\n",
            "all short abbreviations: {'TV'}\n",
            "all short abbreviations: {'MGM'}\n",
            "all short abbreviations: {'NATURAL'}\n",
            "all short abbreviations: {'CGI', 'WAY', 'OTT'}\n",
            "all short abbreviations: {'XVI'}\n",
            "all short abbreviations: {'DVD'}\n",
            "all short abbreviations: {'TROMA', 'RED', 'WAR', 'UNCOMMON', 'IN', 'VALOR', 'RAMBO', 'DAWN', 'MISSING', 'ACTION'}\n",
            "all short abbreviations: {'THE', 'DVD', 'LAME', 'PLOT'}\n",
            "all short abbreviations: {'DVD'}\n",
            "all short abbreviations: {'PG'}\n",
            "all short abbreviations: {'HE', 'ONE', 'HACKER'}\n",
            "all short abbreviations: {'AN', 'IDIOT', 'GO', 'THINK', 'PLEASE', 'AWAY', 'DO', 'YOU'}\n",
            "all short abbreviations: {'TV', 'AND', 'NOT'}\n",
            "all short abbreviations: {'DVD'}\n",
            "all short abbreviations: {'TV', 'LOT', 'TNG'}\n",
            "all short abbreviations: {'HUGE', 'CBS', 'MORE', 'ONLY', 'DID', 'AZN', 'AVOID'}\n",
            "all short abbreviations: {'TERMINATOR', 'DIE', 'HARD', 'SHADOWCHASER', 'THE', 'PROJECT'}\n",
            "all short abbreviations: {'PG'}\n",
            "all short abbreviations: {'IR'}\n",
            "all short abbreviations: {'TV'}\n",
            "all short abbreviations: {'BBC', 'DVD', 'IS'}\n",
            "all short abbreviations: {'MYSTERY', 'THE', 'MEN'}\n",
            "all short abbreviations: {'CG'}\n",
            "all short abbreviations: {'LADY', 'DRINKING', 'INCLUDING', 'KEEP', 'TO', 'ON', 'BLOOD', 'NYU', 'THE', 'GAME'}\n",
            "all short abbreviations: {'MAY', 'FAVOURITE', 'SPOILER', 'COUNTED', 'ABSOLUTELY', 'AS', 'TV', 'PARAGRAPH', 'THIS', 'BE'}\n",
            "all short abbreviations: {'III', 'KG'}\n",
            "all short abbreviations: {'TV'}\n",
            "all short abbreviations: {'SPOILERS'}\n",
            "all short abbreviations: {'MSTK', 'FOR', 'OTHER', 'NOT'}\n",
            "all short abbreviations: {'TV', 'NOT', 'DO'}\n",
            "all short abbreviations: {'MOTB', 'CGI', 'WB', 'DVD', 'AKA'}\n",
            "all short abbreviations: {'ANY', 'LOOK', 'LIKE'}\n",
            "all short abbreviations: {'IS', 'NOT', 'HAD', 'THIS', 'DVD', 'ONE'}\n",
            "all short abbreviations: {'HORROR'}\n",
            "all short abbreviations: {'THAT', 'ALL', 'BECAUSE', 'WHERE', 'THREE', 'TWO', 'DO', 'NINETY', 'US'}\n",
            "all short abbreviations: {'SUV'}\n",
            "all short abbreviations: {'WAS'}\n",
            "all short abbreviations: {'NOTHING', 'ALL', 'AT'}\n",
            "all short abbreviations: {'QUEEN', 'THE', 'OF', 'DAMNED'}\n",
            "all short abbreviations: {'BOMB'}\n",
            "all short abbreviations: {'TV'}\n",
            "all short abbreviations: {'HUBRIS', 'BBC', 'ALL', 'AND', 'WHY', 'OVERREACHES'}\n",
            "all short abbreviations: {'USSR'}\n",
            "all short abbreviations: {'UK'}\n",
            "all short abbreviations: {'SPOILER', 'VERY', 'II', 'IV', 'III'}\n",
            "all short abbreviations: {'CGI'}\n",
            "all short abbreviations: {'VERY'}\n",
            "all short abbreviations: {'NBC'}\n",
            "all short abbreviations: {'WWII', 'CGI'}\n",
            "all short abbreviations: {'THE', 'DVD', 'THING'}\n",
            "all short abbreviations: {'BWP'}\n",
            "all short abbreviations: {'MERK'}\n",
            "all short abbreviations: {'DVD', 'AM'}\n",
            "all short abbreviations: {'CANNOT', 'NOT'}\n",
            "all short abbreviations: {'SCENES', 'VERY', 'FOR', 'TODAYS', 'FIGHT', 'THE', 'BORING', 'ACTION'}\n",
            "all short abbreviations: {'DV', 'LFF'}\n",
            "all short abbreviations: {'II'}\n",
            "all short abbreviations: {'TV'}\n",
            "all short abbreviations: {'IS', 'GREAT', 'LOVED', 'REALLY', 'GOD'}\n",
            "all short abbreviations: {'KIA', 'WWII', 'MIA'}\n",
            "all short abbreviations: {'RENT'}\n",
            "all short abbreviations: {'GIRL', 'SY', 'MURDERS', 'COLLEGE', 'THE'}\n",
            "all short abbreviations: {'IS'}\n",
            "all short abbreviations: {'TV'}\n",
            "all short abbreviations: {'RE', 'PS'}\n",
            "all short abbreviations: {'CD'}\n",
            "all short abbreviations: {'EVERY', 'CBC', 'HEEAAAAAAAAAART', 'OH'}\n",
            "all short abbreviations: {'CORE', 'THE', 'AT', 'EARTH'}\n",
            "all short abbreviations: {'THE', 'OK'}\n",
            "all short abbreviations: {'TV', 'THIS'}\n",
            "all short abbreviations: {'ICE', 'PRESENTS', 'THAT', 'EVIL', 'MEN', 'OF', 'COLD', 'GUNS', 'STRIP', 'COMIC', 'IN', 'ALEX', 'NAVERONE', 'GLC', 'DO', 'THE'}\n",
            "all short abbreviations: {'BAD'}\n",
            "all short abbreviations: {'TV'}\n",
            "all short abbreviations: {'TV', 'FX'}\n",
            "all short abbreviations: {'HOBGOBLINS'}\n",
            "all short abbreviations: {'SHOW', 'IF', 'TELL'}\n",
            "all short abbreviations: {'TV'}\n",
            "all short abbreviations: {'WHERE'}\n",
            "all short abbreviations: {'ONE', 'NPR'}\n",
            "all short abbreviations: {'TV', 'DVD'}\n",
            "all short abbreviations: {'CITB', 'IS'}\n",
            "all short abbreviations: {'MOVIE', 'THIS', 'IS', 'BEST'}\n",
            "all short abbreviations: {'REVIEW', 'SPOILERSA', 'WARNING', 'MILD', 'CONTAINS'}\n",
            "all short abbreviations: {'III', 'OTT', 'DIY'}\n",
            "all short abbreviations: {'THE'}\n",
            "all short abbreviations: {'SPOILER', 'FBI', 'ALERT'}\n",
            "all short abbreviations: {'IT', 'DON', 'BUY', 'RENT'}\n",
            "all short abbreviations: {'AFI', 'NY', 'FBI'}\n",
            "all short abbreviations: {'DVD'}\n",
            "all short abbreviations: {'NATURE'}\n",
            "all short abbreviations: {'DVD', 'VHS'}\n",
            "all short abbreviations: {'II'}\n",
            "all short abbreviations: {'MYSTERY', 'MEN'}\n",
            "all short abbreviations: {'THE', 'GIST'}\n"
          ]
        }
      ]
    },
    {
      "cell_type": "code",
      "source": [
        "## replace the Abbriviation\n",
        "abbreviation_dict = {\n",
        "    'BBC': 'British Broadcasting Corporation',\n",
        "    'TV': 'Television',\n",
        "    'DVD': 'Digital Versatile Disc',\n",
        "    'VHS': 'Video Home System',\n",
        "    'US': 'United States',\n",
        "    'BTW': 'between',\n",
        "    'UK':'United Kingdom'\n",
        "}\n",
        "\n",
        "counter = 0\n",
        "for i in data.review:\n",
        "    try:\n",
        "        # Replace full forms with abbreviations\n",
        "        for key, value in abbreviation_dict.items():\n",
        "            if key in i:\n",
        "                data.review[counter] = i.replace(key, value)\n",
        "            else:\n",
        "                pass\n",
        "\n",
        "    except Exception as e:\n",
        "        print(f\"Error processing review {counter}: {e}\")\n",
        "    counter = counter+1"
      ],
      "metadata": {
        "id": "Cy_BBKMThqe6"
      },
      "execution_count": 8,
      "outputs": []
    },
    {
      "cell_type": "code",
      "source": [
        "### lower the letter cases:\n",
        "counter = 0\n",
        "\n",
        "for i in df.review:\n",
        "    try:\n",
        "        lower_case = str(i).lower()\n",
        "        df.loc[counter,'review'] = lower_case\n",
        "\n",
        "    except Exception as e:\n",
        "        print(f\"Error processing review {counter}: {e}\")\n",
        "    counter = counter+1\n"
      ],
      "metadata": {
        "id": "yp_Z0WI0jk-O"
      },
      "execution_count": 81,
      "outputs": []
    },
    {
      "cell_type": "code",
      "source": [
        "## checking df:\n",
        "df.review[10]"
      ],
      "metadata": {
        "colab": {
          "base_uri": "https://localhost:8080/",
          "height": 70
        },
        "id": "3tW6Jt-4mkhA",
        "outputId": "bb882db5-ce87-465a-c97b-41f50fc7a71a"
      },
      "execution_count": 82,
      "outputs": [
        {
          "output_type": "execute_result",
          "data": {
            "text/plain": [
              "\"['phil', 'alien', 'one', 'quick', 'film', 'humour', 'base', 'around', 'address', 'everyth', 'rather', 'actual', 'punchlinesat', 'first', 'veri', 'odd', 'pretti', 'funni', 'movi', 'progress', 'didnt', 'find', 'joke', 'address', 'funni', 'anymoreit', 'low', 'budget', 'film', 'never', 'problem', 'pretti', 'interest', 'charact', 'eventu', 'lost', 'interesti', 'imagin', 'film', 'would', 'appeal', 'stoner', 'current', 'partingfor', 'someth', 'similar', 'better', 'tri', 'brother', 'anoth', 'planet']\""
            ],
            "application/vnd.google.colaboratory.intrinsic+json": {
              "type": "string"
            }
          },
          "metadata": {},
          "execution_count": 82
        }
      ]
    },
    {
      "cell_type": "code",
      "source": [
        "from textblob import TextBlob\n",
        "counter = 0\n",
        "\n",
        "for i in df.review:\n",
        "    try:\n",
        "        correction = TextBlob(i).correct()\n",
        "        df.loc[counter,'review'] = str(correction)\n",
        "\n",
        "    except Exception as e:\n",
        "        print(f\"Error processing review {counter}: {e}\")\n",
        "    counter = counter+1\n"
      ],
      "metadata": {
        "id": "8pGDhrddq22q"
      },
      "execution_count": null,
      "outputs": []
    },
    {
      "cell_type": "code",
      "source": [
        "## removing all punctuations except dot\n",
        "counter = 0\n",
        "\n",
        "for i in range(len(df.review)):\n",
        "    try:\n",
        "        for punctuations in string.punctuation:\n",
        "            if punctuations in df.review[i]:\n",
        "                df.review[i] = df.review[i].replace(punctuations,'')\n",
        "            else:\n",
        "                pass\n",
        "    except Exception as e:\n",
        "        print(f\"error in punctuation subs {e}\")\n"
      ],
      "metadata": {
        "id": "4HpSdHPOoJqN"
      },
      "execution_count": null,
      "outputs": []
    },
    {
      "cell_type": "code",
      "source": [
        "## from nltk import stopwords\n",
        "from nltk.corpus import stopwords\n",
        "\n",
        "## from nltk importing SnowballStemmer\n",
        "from nltk.stem import SnowballStemmer\n",
        "\n",
        "## downloading pre define list, we can make customized one\n",
        "nltk.download('punkt')\n",
        "nltk.download('stopwords')\n",
        "\n",
        "# Get the list of unique English stopwords\n",
        "stop_words_eng = set(stopwords.words('english'))\n",
        "\n",
        "# initializing SnowballStemmer(english) as stemmer_snow_eng\n",
        "stemmer_snow_eng =  SnowballStemmer('english')"
      ],
      "metadata": {
        "colab": {
          "base_uri": "https://localhost:8080/"
        },
        "id": "rkSWjV72yAXz",
        "outputId": "a6d57590-8c52-42c1-a275-4c2dd28f67d2"
      },
      "execution_count": 13,
      "outputs": [
        {
          "output_type": "stream",
          "name": "stderr",
          "text": [
            "[nltk_data] Downloading package punkt to /root/nltk_data...\n",
            "[nltk_data]   Package punkt is already up-to-date!\n",
            "[nltk_data] Downloading package stopwords to /root/nltk_data...\n",
            "[nltk_data]   Package stopwords is already up-to-date!\n"
          ]
        }
      ]
    },
    {
      "cell_type": "code",
      "source": [
        "\n",
        "# Tokenizing the sentence\n",
        "counter = 0\n",
        "\n",
        "# calling review items\n",
        "for i in df.review:\n",
        "    try:\n",
        "        ## tokenizing words\n",
        "        tokenize_word = nltk.word_tokenize(i) ## use sentence tokenizer also\n",
        "        ## set list as null\n",
        "        stop_words_sentence = []\n",
        "\n",
        "        ## loop through each tokenized word\n",
        "        for j in tokenize_word:\n",
        "            # steem the word ex.\"running as run\"\n",
        "            stemmed_word = stemmer_snow_eng.stem(j)\n",
        "\n",
        "            ## removing stop word (like is,the...,etc)\n",
        "            if stemmed_word not in stop_words_eng:\n",
        "                stop_words_sentence.append(stemmed_word)\n",
        "            else:\n",
        "                pass\n",
        "        df.review[counter] = stop_words_sentence.copy()\n",
        "\n",
        "    except Exception as e:\n",
        "        print(f\"Error processing review {counter}: {e}\")\n",
        "    counter = counter+1"
      ],
      "metadata": {
        "id": "W2Ig7h8PyAK3"
      },
      "execution_count": 14,
      "outputs": []
    },
    {
      "cell_type": "code",
      "source": [
        "## checking df:\n",
        "df.review[0]"
      ],
      "metadata": {
        "colab": {
          "base_uri": "https://localhost:8080/"
        },
        "id": "4oCO1pQsshW1",
        "outputId": "699c2e5f-152a-4130-fc43-58243a896119"
      },
      "execution_count": 15,
      "outputs": [
        {
          "output_type": "execute_result",
          "data": {
            "text/plain": [
              "['one',\n",
              " 'review',\n",
              " 'mention',\n",
              " 'watch',\n",
              " 'oz',\n",
              " 'episod',\n",
              " 'youll',\n",
              " 'hook',\n",
              " 'right',\n",
              " 'exact',\n",
              " 'happen',\n",
              " 'meth',\n",
              " 'first',\n",
              " 'thing',\n",
              " 'struck',\n",
              " 'oz',\n",
              " 'brutal',\n",
              " 'unflinch',\n",
              " 'scene',\n",
              " 'violenc',\n",
              " 'set',\n",
              " 'right',\n",
              " 'word',\n",
              " 'go',\n",
              " 'trust',\n",
              " 'show',\n",
              " 'faint',\n",
              " 'heart',\n",
              " 'timid',\n",
              " 'show',\n",
              " 'pull',\n",
              " 'punch',\n",
              " 'regard',\n",
              " 'drug',\n",
              " 'sex',\n",
              " 'violenc',\n",
              " 'hardwar',\n",
              " 'classic',\n",
              " 'use',\n",
              " 'wordit',\n",
              " 'call',\n",
              " 'oz',\n",
              " 'nicknam',\n",
              " 'given',\n",
              " 'onward',\n",
              " 'maximum',\n",
              " 'secur',\n",
              " 'state',\n",
              " 'penitentiari',\n",
              " 'focus',\n",
              " 'main',\n",
              " 'emerald',\n",
              " 'citi',\n",
              " 'experiment',\n",
              " 'section',\n",
              " 'prison',\n",
              " 'cell',\n",
              " 'glass',\n",
              " 'front',\n",
              " 'face',\n",
              " 'inward',\n",
              " 'privaci',\n",
              " 'high',\n",
              " 'agenda',\n",
              " 'em',\n",
              " 'citi',\n",
              " 'home',\n",
              " 'manyorgan',\n",
              " 'muslin',\n",
              " 'gangsta',\n",
              " 'nation',\n",
              " 'christian',\n",
              " 'italian',\n",
              " 'irish',\n",
              " 'moreso',\n",
              " 'snuffl',\n",
              " 'death',\n",
              " 'stare',\n",
              " 'podgi',\n",
              " 'deal',\n",
              " 'shadi',\n",
              " 'agreement',\n",
              " 'never',\n",
              " 'far',\n",
              " 'awayi',\n",
              " 'would',\n",
              " 'say',\n",
              " 'main',\n",
              " 'appeal',\n",
              " 'show',\n",
              " 'due',\n",
              " 'fact',\n",
              " 'goe',\n",
              " 'show',\n",
              " 'wouldnt',\n",
              " 'dare',\n",
              " 'forget',\n",
              " 'pretti',\n",
              " 'pictur',\n",
              " 'paint',\n",
              " 'mainstream',\n",
              " 'audienc',\n",
              " 'forget',\n",
              " 'charm',\n",
              " 'forget',\n",
              " 'romanceoz',\n",
              " 'doesnt',\n",
              " 'mess',\n",
              " 'around',\n",
              " 'first',\n",
              " 'episod',\n",
              " 'ever',\n",
              " 'saw',\n",
              " 'struck',\n",
              " 'nasti',\n",
              " 'surrey',\n",
              " 'couldnt',\n",
              " 'say',\n",
              " 'readi',\n",
              " 'watch',\n",
              " 'develop',\n",
              " 'tast',\n",
              " 'oz',\n",
              " 'got',\n",
              " 'accustom',\n",
              " 'high',\n",
              " 'level',\n",
              " 'graphic',\n",
              " 'violenc',\n",
              " 'violenc',\n",
              " 'injustic',\n",
              " 'crook',\n",
              " 'guard',\n",
              " 'wholl',\n",
              " 'sold',\n",
              " 'nickel',\n",
              " 'inmat',\n",
              " 'wholl',\n",
              " 'kill',\n",
              " 'order',\n",
              " 'get',\n",
              " 'away',\n",
              " 'well',\n",
              " 'manner',\n",
              " 'middl',\n",
              " 'class',\n",
              " 'inmat',\n",
              " 'turn',\n",
              " 'prison',\n",
              " 'birch',\n",
              " 'due',\n",
              " 'lack',\n",
              " 'street',\n",
              " 'skill',\n",
              " 'prison',\n",
              " 'experi',\n",
              " 'watch',\n",
              " 'oz',\n",
              " 'may',\n",
              " 'becom',\n",
              " 'comfort',\n",
              " 'uncomfort',\n",
              " 'viewingthat',\n",
              " 'get',\n",
              " 'touch',\n",
              " 'darker',\n",
              " 'side']"
            ]
          },
          "metadata": {},
          "execution_count": 15
        }
      ]
    },
    {
      "cell_type": "markdown",
      "source": [
        "---\n",
        "---\n",
        "\n",
        "- This class allows to vectorize a text corpus, by turning each text into either a sequence of integers (each integer being the index of a token in a dictionary) or into a vector where the coefficient for each token could be binary, based on word count, based on tf-idf...\n",
        "\n",
        "- By default, all punctuation is removed, turning the texts into space-separated sequences of words (words may include the ' character).\n",
        "\n",
        "- These sequences are then split into lists of tokens. They will then be indexed or vectorized."
      ],
      "metadata": {
        "id": "8NWClZAIbcCv"
      }
    },
    {
      "cell_type": "code",
      "source": [
        "## train_test spliting the df frame\n",
        "x = df.review\n",
        "y = df.sentiment"
      ],
      "metadata": {
        "id": "_hSGNiST82jy"
      },
      "execution_count": 16,
      "outputs": []
    },
    {
      "cell_type": "code",
      "source": [
        "print(f\"x[0]:\",len(x[0]))\n",
        "print(f\"x[1]:\",len(x[1]))"
      ],
      "metadata": {
        "id": "k9sy56uPVHze",
        "colab": {
          "base_uri": "https://localhost:8080/"
        },
        "outputId": "dcc8132a-a4ef-4fb3-80a9-adb4fac146e1"
      },
      "execution_count": 17,
      "outputs": [
        {
          "output_type": "stream",
          "name": "stdout",
          "text": [
            "x[0]: 167\n",
            "x[1]: 88\n"
          ]
        }
      ]
    },
    {
      "cell_type": "code",
      "source": [
        "### integer encoding using keras:\n",
        "from keras.preprocessing.text import Tokenizer\n",
        "tokenizer = Tokenizer(oov_token = '<NOTHING>')\n",
        "tokenizer.fit_on_texts(x)"
      ],
      "metadata": {
        "id": "OGCPdfOUm_zz"
      },
      "execution_count": 18,
      "outputs": []
    },
    {
      "cell_type": "code",
      "source": [
        "tokenizer.texts_to_sequences(x[3])"
      ],
      "metadata": {
        "id": "FKPKT_9qqiL_",
        "colab": {
          "base_uri": "https://localhost:8080/"
        },
        "outputId": "53549a76-78d3-4c68-d17b-72a9333dcfab"
      },
      "execution_count": 19,
      "outputs": [
        {
          "output_type": "execute_result",
          "data": {
            "text/plain": [
              "[[400],\n",
              " [181],\n",
              " [54],\n",
              " [275],\n",
              " [1536],\n",
              " [26],\n",
              " [596],\n",
              " [1537],\n",
              " [597],\n",
              " [287],\n",
              " [2401],\n",
              " [3],\n",
              " [2402],\n",
              " [1292],\n",
              " [1538],\n",
              " [786],\n",
              " [1536],\n",
              " [259],\n",
              " [139],\n",
              " [2403],\n",
              " [95],\n",
              " [3387],\n",
              " [33],\n",
              " [22],\n",
              " [10],\n",
              " [2],\n",
              " [133],\n",
              " [259],\n",
              " [470],\n",
              " [512],\n",
              " [512],\n",
              " [3],\n",
              " [1109],\n",
              " [597],\n",
              " [3388],\n",
              " [3389],\n",
              " [5],\n",
              " [113],\n",
              " [51],\n",
              " [1536],\n",
              " [1537],\n",
              " [207],\n",
              " [867],\n",
              " [2],\n",
              " [246],\n",
              " [7],\n",
              " [3390],\n",
              " [288],\n",
              " [3],\n",
              " [289],\n",
              " [8],\n",
              " [512],\n",
              " [1878],\n",
              " [470],\n",
              " [868],\n",
              " [25],\n",
              " [31],\n",
              " [597],\n",
              " [2404],\n",
              " [397],\n",
              " [200],\n",
              " [1536],\n",
              " [973]]"
            ]
          },
          "metadata": {},
          "execution_count": 19
        }
      ]
    },
    {
      "cell_type": "code",
      "source": [
        "## performing the split:\n",
        "\n",
        "from sklearn.model_selection import train_test_split\n",
        "\n",
        "x_train, x_test, y_train, y_test = train_test_split(x, y, test_size=0.10)\n",
        "\n",
        "\n",
        "print(f\"x_train shape {x_train.shape}\\n x_train_length: {len(x_train)}\")\n",
        "print(f\"y_train shape {y_train.shape}\\n y_train_length: {len(y_train)}\")"
      ],
      "metadata": {
        "colab": {
          "base_uri": "https://localhost:8080/"
        },
        "id": "kC6nOnyHNKfn",
        "outputId": "e8925a82-77fb-411c-bd67-0a0ca207f597"
      },
      "execution_count": 20,
      "outputs": [
        {
          "output_type": "stream",
          "name": "stdout",
          "text": [
            "x_train shape (270,)\n",
            " x_train_length: 270\n",
            "y_train shape (270,)\n",
            " y_train_length: 270\n"
          ]
        }
      ]
    },
    {
      "cell_type": "code",
      "source": [
        "x_train = tokenizer.texts_to_sequences(x_train)\n",
        "x_test = tokenizer.texts_to_sequences(x_test)"
      ],
      "metadata": {
        "id": "DSRsImsVAdIq"
      },
      "execution_count": 21,
      "outputs": []
    },
    {
      "cell_type": "code",
      "source": [
        "## paddding the each rows :\n",
        "from keras.utils import pad_sequences\n",
        "\n",
        "x_train = pad_sequences(x_train, maxlen=1000, padding='post')\n",
        "x_test = pad_sequences(x_test, maxlen=1000, padding='post')\n",
        "\n",
        "print(f\"x_train shape {x_train.shape}\\n x_train_length: {len(x_train)}\")\n",
        "print(f\"y_train shape {y_train.shape}\\n y_train_length: {len(y_train)}\")"
      ],
      "metadata": {
        "id": "gPf_lDIbzlgW",
        "colab": {
          "base_uri": "https://localhost:8080/"
        },
        "outputId": "ddf27f9c-2c5f-478b-c184-e77040512872"
      },
      "execution_count": 22,
      "outputs": [
        {
          "output_type": "stream",
          "name": "stdout",
          "text": [
            "x_train shape (270, 1000)\n",
            " x_train_length: 270\n",
            "y_train shape (270,)\n",
            " y_train_length: 270\n"
          ]
        }
      ]
    },
    {
      "cell_type": "code",
      "source": [
        "## checking y_train\n",
        "# Create a mapping dictionary\n",
        "label_mapping = {\"positive\": 0, \"negative\": 1}\n",
        "\n",
        "# Map labels in y_train and y_test\n",
        "y_train = [label_mapping[label] for label in y_train]\n",
        "y_test = [label_mapping[label] for label in y_test]\n",
        "\n",
        "\n",
        "print(f\"y_train[0]: {(y_train[0])}\")\n",
        "print(f\"y_train[1]: {(y_train[1])}\")"
      ],
      "metadata": {
        "colab": {
          "base_uri": "https://localhost:8080/"
        },
        "id": "TI6BHk6W_9Ix",
        "outputId": "431960c6-c515-45bc-a914-b52486f230c0"
      },
      "execution_count": 23,
      "outputs": [
        {
          "output_type": "stream",
          "name": "stdout",
          "text": [
            "y_train[0]: 0\n",
            "y_train[1]: 1\n"
          ]
        }
      ]
    },
    {
      "cell_type": "markdown",
      "source": [
        "---\n",
        "1. input_dim:\n",
        "- This refers to the size of the vocabulary in your dataset.\n",
        "- In natural language processing, it represents the total number of unique words that are present in your text corpus.\n",
        "\n",
        "- For example, if we're working with a dataset of movie reviews and we've preprocessed it to have a vocabulary of 10,000 unique words, input_dim would be set to 10,000.\n",
        "\n",
        "\n",
        "2. output_dim:\n",
        "- This is the dimension of the dense embedding.\n",
        "- It determines the size of the vectors that the words will be mapped to.\n",
        "- Essentially, it's the number of hidden units in the embedding layer.\n",
        "\n",
        "In our case, we're using an output_dim of 2, which means each word in your dataset will be represented as a vector with 2 values.\n",
        "\n",
        "3. input_length:\n",
        "- This is the length of input sequences, i.e., the number of words in each input sequence.\n",
        "- If you're using fixed-length sequences (e.g., for training a recurrent neural network, you might have a fixed sequence length of 1500 words), then you would set input_length to that value.\n",
        "- This parameter is crucial because it determines how many words from each sequence will be processed by the embedding layer.\n",
        "\n",
        "---"
      ],
      "metadata": {
        "id": "Y7hm9raPT8nZ"
      }
    },
    {
      "cell_type": "code",
      "source": [
        "# findind input dim:\n",
        "vocab_size = len(tokenizer.word_index)\n",
        "print(f\"Vocabulary size: {vocab_size} + {1}\")\n"
      ],
      "metadata": {
        "colab": {
          "base_uri": "https://localhost:8080/"
        },
        "id": "bhHVt3hES8PZ",
        "outputId": "4890afd4-1a0b-4977-dc15-772a2711488f"
      },
      "execution_count": 24,
      "outputs": [
        {
          "output_type": "stream",
          "name": "stdout",
          "text": [
            "Vocabulary size: 6639 + 1\n"
          ]
        }
      ]
    },
    {
      "cell_type": "code",
      "source": [],
      "metadata": {
        "id": "bYOdqBkuVwkg"
      },
      "execution_count": 24,
      "outputs": []
    },
    {
      "cell_type": "markdown",
      "source": [
        "using SimpleRNN"
      ],
      "metadata": {
        "id": "1P7lRYb1cWlF"
      }
    },
    {
      "cell_type": "code",
      "source": [
        "## creating sequential model layers:\n",
        "model = tf.keras.Sequential([\n",
        "    tf.keras.layers.Embedding(input_dim = 6771, output_dim=2, input_length=1000),\n",
        "    tf.keras.layers.SimpleRNN(100, activation='relu', return_sequences = True),  # Added return_sequences=True\n",
        "    tf.keras.layers.SimpleRNN(50, activation='relu',return_sequences = False),\n",
        "    tf.keras.layers.Dense(1, activation='sigmoid')\n",
        "])\n",
        "\n",
        "\n",
        "## model summary:\n",
        "model.summary()"
      ],
      "metadata": {
        "colab": {
          "base_uri": "https://localhost:8080/"
        },
        "id": "U5wIvX9GRKM1",
        "outputId": "9e3a7653-2fd7-4376-da97-6eb6a768e3c2"
      },
      "execution_count": 25,
      "outputs": [
        {
          "output_type": "stream",
          "name": "stdout",
          "text": [
            "Model: \"sequential\"\n",
            "_________________________________________________________________\n",
            " Layer (type)                Output Shape              Param #   \n",
            "=================================================================\n",
            " embedding (Embedding)       (None, 1000, 2)           13542     \n",
            "                                                                 \n",
            " simple_rnn (SimpleRNN)      (None, 1000, 100)         10300     \n",
            "                                                                 \n",
            " simple_rnn_1 (SimpleRNN)    (None, 50)                7550      \n",
            "                                                                 \n",
            " dense (Dense)               (None, 1)                 51        \n",
            "                                                                 \n",
            "=================================================================\n",
            "Total params: 31443 (122.82 KB)\n",
            "Trainable params: 31443 (122.82 KB)\n",
            "Non-trainable params: 0 (0.00 Byte)\n",
            "_________________________________________________________________\n"
          ]
        }
      ]
    },
    {
      "cell_type": "code",
      "source": [
        "# Create a function to implement a Earlystop callback with loss monitor)\n",
        "Early_stop = tf.keras.callbacks.EarlyStopping( monitor='val_loss', patience = 2, verbose = 2)\n",
        "\n",
        "## model compiling :\n",
        "optimize = tf.keras.optimizers.experimental.Adam(learning_rate=0.01)\n",
        "model.compile(optimizer = optimize, loss ='binary_crossentropy', metrics =['accuracy'])"
      ],
      "metadata": {
        "id": "knw9Y18URgYA"
      },
      "execution_count": 26,
      "outputs": []
    },
    {
      "cell_type": "code",
      "source": [
        "# fitting the model:\n",
        "history = model.fit(x_train,y_train,\n",
        "                  validation_data=(x_test, y_test),\n",
        "                  batch_size=32,\n",
        "                  epochs=5,\n",
        "                  callbacks=Early_stop)"
      ],
      "metadata": {
        "colab": {
          "base_uri": "https://localhost:8080/",
          "height": 390
        },
        "id": "SQAoNHqVUFw5",
        "outputId": "84927db2-240a-468e-ee82-43ce29b6ec28"
      },
      "execution_count": 27,
      "outputs": [
        {
          "output_type": "error",
          "ename": "ValueError",
          "evalue": "ignored",
          "traceback": [
            "\u001b[0;31m---------------------------------------------------------------------------\u001b[0m",
            "\u001b[0;31mValueError\u001b[0m                                Traceback (most recent call last)",
            "\u001b[0;32m<ipython-input-27-6a7090fda951>\u001b[0m in \u001b[0;36m<cell line: 2>\u001b[0;34m()\u001b[0m\n\u001b[1;32m      1\u001b[0m \u001b[0;31m# fitting the model:\u001b[0m\u001b[0;34m\u001b[0m\u001b[0;34m\u001b[0m\u001b[0m\n\u001b[0;32m----> 2\u001b[0;31m history = model.fit(x_train,y_train,\n\u001b[0m\u001b[1;32m      3\u001b[0m                   \u001b[0mvalidation_data\u001b[0m\u001b[0;34m=\u001b[0m\u001b[0;34m(\u001b[0m\u001b[0mx_test\u001b[0m\u001b[0;34m,\u001b[0m \u001b[0my_test\u001b[0m\u001b[0;34m)\u001b[0m\u001b[0;34m,\u001b[0m\u001b[0;34m\u001b[0m\u001b[0;34m\u001b[0m\u001b[0m\n\u001b[1;32m      4\u001b[0m                   \u001b[0mbatch_size\u001b[0m\u001b[0;34m=\u001b[0m\u001b[0;36m32\u001b[0m\u001b[0;34m,\u001b[0m\u001b[0;34m\u001b[0m\u001b[0;34m\u001b[0m\u001b[0m\n\u001b[1;32m      5\u001b[0m                   \u001b[0mepochs\u001b[0m\u001b[0;34m=\u001b[0m\u001b[0;36m5\u001b[0m\u001b[0;34m,\u001b[0m\u001b[0;34m\u001b[0m\u001b[0;34m\u001b[0m\u001b[0m\n",
            "\u001b[0;32m/usr/local/lib/python3.10/dist-packages/keras/src/utils/traceback_utils.py\u001b[0m in \u001b[0;36merror_handler\u001b[0;34m(*args, **kwargs)\u001b[0m\n\u001b[1;32m     68\u001b[0m             \u001b[0;31m# To get the full stack trace, call:\u001b[0m\u001b[0;34m\u001b[0m\u001b[0;34m\u001b[0m\u001b[0m\n\u001b[1;32m     69\u001b[0m             \u001b[0;31m# `tf.debugging.disable_traceback_filtering()`\u001b[0m\u001b[0;34m\u001b[0m\u001b[0;34m\u001b[0m\u001b[0m\n\u001b[0;32m---> 70\u001b[0;31m             \u001b[0;32mraise\u001b[0m \u001b[0me\u001b[0m\u001b[0;34m.\u001b[0m\u001b[0mwith_traceback\u001b[0m\u001b[0;34m(\u001b[0m\u001b[0mfiltered_tb\u001b[0m\u001b[0;34m)\u001b[0m \u001b[0;32mfrom\u001b[0m \u001b[0;32mNone\u001b[0m\u001b[0;34m\u001b[0m\u001b[0;34m\u001b[0m\u001b[0m\n\u001b[0m\u001b[1;32m     71\u001b[0m         \u001b[0;32mfinally\u001b[0m\u001b[0;34m:\u001b[0m\u001b[0;34m\u001b[0m\u001b[0;34m\u001b[0m\u001b[0m\n\u001b[1;32m     72\u001b[0m             \u001b[0;32mdel\u001b[0m \u001b[0mfiltered_tb\u001b[0m\u001b[0;34m\u001b[0m\u001b[0;34m\u001b[0m\u001b[0m\n",
            "\u001b[0;32m/usr/local/lib/python3.10/dist-packages/keras/src/engine/data_adapter.py\u001b[0m in \u001b[0;36mselect_data_adapter\u001b[0;34m(x, y)\u001b[0m\n\u001b[1;32m   1103\u001b[0m     \u001b[0;32mif\u001b[0m \u001b[0;32mnot\u001b[0m \u001b[0madapter_cls\u001b[0m\u001b[0;34m:\u001b[0m\u001b[0;34m\u001b[0m\u001b[0;34m\u001b[0m\u001b[0m\n\u001b[1;32m   1104\u001b[0m         \u001b[0;31m# TODO(scottzhu): This should be a less implementation-specific error.\u001b[0m\u001b[0;34m\u001b[0m\u001b[0;34m\u001b[0m\u001b[0m\n\u001b[0;32m-> 1105\u001b[0;31m         raise ValueError(\n\u001b[0m\u001b[1;32m   1106\u001b[0m             \"Failed to find data adapter that can handle input: {}, {}\".format(\n\u001b[1;32m   1107\u001b[0m                 \u001b[0m_type_name\u001b[0m\u001b[0;34m(\u001b[0m\u001b[0mx\u001b[0m\u001b[0;34m)\u001b[0m\u001b[0;34m,\u001b[0m \u001b[0m_type_name\u001b[0m\u001b[0;34m(\u001b[0m\u001b[0my\u001b[0m\u001b[0;34m)\u001b[0m\u001b[0;34m\u001b[0m\u001b[0;34m\u001b[0m\u001b[0m\n",
            "\u001b[0;31mValueError\u001b[0m: Failed to find data adapter that can handle input: <class 'numpy.ndarray'>, (<class 'list'> containing values of types {\"<class 'int'>\"})"
          ]
        }
      ]
    },
    {
      "cell_type": "code",
      "source": [
        "## converting into numpy:\n",
        "\n",
        "x_train = np.array(x_train)\n",
        "x_test = np.array(x_test)\n",
        "y_train = np.array(y_train)\n",
        "y_test = np.array(y_test)\n",
        "\n"
      ],
      "metadata": {
        "id": "86YFY5TEUKJg"
      },
      "execution_count": 28,
      "outputs": []
    },
    {
      "cell_type": "code",
      "source": [
        "# fitting the model:\n",
        "history = model.fit(x_train,y_train,\n",
        "                  validation_data=(x_test, y_test),\n",
        "                  batch_size=32,\n",
        "                  epochs=5,\n",
        "                  callbacks=Early_stop)"
      ],
      "metadata": {
        "colab": {
          "base_uri": "https://localhost:8080/"
        },
        "id": "g2Uyk-wIV3dm",
        "outputId": "137c6785-7bde-475f-8e51-c3d5a300a2b4"
      },
      "execution_count": 29,
      "outputs": [
        {
          "output_type": "stream",
          "name": "stdout",
          "text": [
            "Epoch 1/5\n",
            "9/9 [==============================] - 25s 2s/step - loss: 0.6976 - accuracy: 0.4667 - val_loss: 0.6926 - val_accuracy: 0.7000\n",
            "Epoch 2/5\n",
            "9/9 [==============================] - 21s 2s/step - loss: 0.6942 - accuracy: 0.4667 - val_loss: 0.6930 - val_accuracy: 0.7000\n",
            "Epoch 3/5\n",
            "9/9 [==============================] - 20s 2s/step - loss: 0.6940 - accuracy: 0.5185 - val_loss: 0.6830 - val_accuracy: 0.7000\n",
            "Epoch 4/5\n",
            "9/9 [==============================] - 20s 2s/step - loss: 0.6931 - accuracy: 0.5185 - val_loss: 0.6786 - val_accuracy: 0.7000\n",
            "Epoch 5/5\n",
            "9/9 [==============================] - 21s 2s/step - loss: 0.6925 - accuracy: 0.5185 - val_loss: 0.6816 - val_accuracy: 0.7000\n"
          ]
        }
      ]
    },
    {
      "cell_type": "markdown",
      "source": [
        "# usinng LSTM"
      ],
      "metadata": {
        "id": "BgOmKtcvca36"
      }
    },
    {
      "cell_type": "code",
      "source": [
        "## creating sequential model layers:\n",
        "model_1 = tf.keras.Sequential([\n",
        "    tf.keras.layers.Embedding(input_dim = 6771, output_dim=2, input_length=1000),\n",
        "    tf.keras.layers.LSTM(100, activation='relu', return_sequences = True),  # Added return_sequences=True\n",
        "    tf.keras.layers.LSTM(50, activation='relu',return_sequences = False),\n",
        "    tf.keras.layers.Dense(1, activation='sigmoid')\n",
        "])\n",
        "\n",
        "## model summary:\n",
        "model_1.summary()"
      ],
      "metadata": {
        "colab": {
          "base_uri": "https://localhost:8080/"
        },
        "id": "8AaUQyHrV54F",
        "outputId": "33dd2657-490b-4075-a44f-1cdddf198b4f"
      },
      "execution_count": 75,
      "outputs": [
        {
          "output_type": "stream",
          "name": "stderr",
          "text": [
            "WARNING:tensorflow:Layer lstm_7 will not use cuDNN kernels since it doesn't meet the criteria. It will use a generic GPU kernel as fallback when running on GPU.\n",
            "WARNING:tensorflow:Layer lstm_8 will not use cuDNN kernels since it doesn't meet the criteria. It will use a generic GPU kernel as fallback when running on GPU.\n"
          ]
        },
        {
          "output_type": "stream",
          "name": "stdout",
          "text": [
            "Model: \"sequential_4\"\n",
            "_________________________________________________________________\n",
            " Layer (type)                Output Shape              Param #   \n",
            "=================================================================\n",
            " embedding_4 (Embedding)     (None, 1000, 2)           13542     \n",
            "                                                                 \n",
            " lstm_5 (LSTM)               (None, 1000, 100)         41200     \n",
            "                                                                 \n",
            " lstm_6 (LSTM)               (None, 50)                30200     \n",
            "                                                                 \n",
            " dense_4 (Dense)             (None, 1)                 51        \n",
            "                                                                 \n",
            "=================================================================\n",
            "Total params: 84993 (332.00 KB)\n",
            "Trainable params: 84993 (332.00 KB)\n",
            "Non-trainable params: 0 (0.00 Byte)\n",
            "_________________________________________________________________\n"
          ]
        }
      ]
    },
    {
      "cell_type": "code",
      "source": [
        "# Create a function to implement a Earlystop callback with loss monitor)\n",
        "Early_stop = tf.keras.callbacks.EarlyStopping( monitor='val_loss', patience = 3, verbose = 2)\n",
        "\n",
        "## model compiling :\n",
        "optimize = tf.keras.optimizers.experimental.Adam(learning_rate=0.001)\n",
        "model_1.compile(optimizer = optimize, loss ='binary_crossentropy', metrics =['accuracy'])"
      ],
      "metadata": {
        "id": "62Eg29Mwcvfw"
      },
      "execution_count": 79,
      "outputs": []
    },
    {
      "cell_type": "code",
      "source": [
        "# fitting the model:\n",
        "model_1.fit(x_train,y_train,\n",
        "                  validation_data=(x_test, y_test),\n",
        "                  batch_size=32,\n",
        "                  epochs=5,\n",
        "                  callbacks=Early_stop)"
      ],
      "metadata": {
        "colab": {
          "base_uri": "https://localhost:8080/"
        },
        "id": "jYpdPaCMc06D",
        "outputId": "e901863f-473a-492d-e17a-29528047a536"
      },
      "execution_count": 80,
      "outputs": [
        {
          "output_type": "stream",
          "name": "stdout",
          "text": [
            "Epoch 1/5\n",
            "9/9 [==============================] - 42s 4s/step - loss: 0.6931 - accuracy: 0.5111 - val_loss: 0.6919 - val_accuracy: 0.7000\n",
            "Epoch 2/5\n",
            "9/9 [==============================] - 35s 4s/step - loss: 0.6932 - accuracy: 0.5185 - val_loss: 0.6901 - val_accuracy: 0.7000\n",
            "Epoch 3/5\n",
            "9/9 [==============================] - 40s 4s/step - loss: 0.6930 - accuracy: 0.5185 - val_loss: 0.6894 - val_accuracy: 0.7000\n",
            "Epoch 4/5\n",
            "9/9 [==============================] - 37s 4s/step - loss: 0.6929 - accuracy: 0.5185 - val_loss: 0.6893 - val_accuracy: 0.7000\n",
            "Epoch 5/5\n",
            "9/9 [==============================] - 39s 4s/step - loss: 0.6928 - accuracy: 0.5185 - val_loss: 0.6887 - val_accuracy: 0.7000\n"
          ]
        },
        {
          "output_type": "execute_result",
          "data": {
            "text/plain": [
              "<keras.src.callbacks.History at 0x7e2fac780070>"
            ]
          },
          "metadata": {},
          "execution_count": 80
        }
      ]
    },
    {
      "cell_type": "code",
      "source": [
        "## testing review:\n",
        "preds = model_1.predict(x_test)\n",
        "preds = np.round(preds)"
      ],
      "metadata": {
        "colab": {
          "base_uri": "https://localhost:8080/"
        },
        "id": "48JMvyShc9Xu",
        "outputId": "55857b80-8bd3-4adb-980f-bd493437ca32"
      },
      "execution_count": 84,
      "outputs": [
        {
          "output_type": "stream",
          "name": "stdout",
          "text": [
            "1/1 [==============================] - 0s 489ms/step\n"
          ]
        }
      ]
    },
    {
      "cell_type": "code",
      "source": [
        "## flatten as 1D:\n",
        "preds = preds.flatten()\n",
        "preds"
      ],
      "metadata": {
        "colab": {
          "base_uri": "https://localhost:8080/"
        },
        "id": "5XvWwbPAhp0j",
        "outputId": "64c754af-b754-44d3-a7d1-a912de38b7e3"
      },
      "execution_count": 85,
      "outputs": [
        {
          "output_type": "execute_result",
          "data": {
            "text/plain": [
              "array([1., 1., 1., 1., 1., 1., 1., 1., 1., 1., 1., 1., 1., 1., 1., 1., 1.,\n",
              "       1., 1., 1., 1., 1., 1., 1., 1., 1., 1., 1., 1., 1.], dtype=float32)"
            ]
          },
          "metadata": {},
          "execution_count": 85
        }
      ]
    },
    {
      "cell_type": "code",
      "source": [],
      "metadata": {
        "colab": {
          "base_uri": "https://localhost:8080/"
        },
        "id": "qNISj4jPocdD",
        "outputId": "d69f58b6-7e48-4eec-c8aa-78c8e4c353cc"
      },
      "execution_count": 89,
      "outputs": [
        {
          "output_type": "stream",
          "name": "stdout",
          "text": [
            "Confusion Matrix:\n",
            "[[ 0  9]\n",
            " [ 0 21]]\n"
          ]
        }
      ]
    },
    {
      "cell_type": "code",
      "source": [
        "review = ['positive', 'negative']\n",
        "\n",
        "pred_review = []\n",
        "for i in preds:\n",
        "    i = int(i)\n",
        "    pred_review.append(review[i])\n",
        "\n",
        "actual_review = []\n",
        "for j in y_test:\n",
        "    actual_review.append(review[j])\n",
        "\n"
      ],
      "metadata": {
        "id": "WYAy3nm3f7kG"
      },
      "execution_count": 86,
      "outputs": []
    },
    {
      "cell_type": "code",
      "source": [
        "import matplotlib.pyplot as plt\n",
        "import seaborn as sns\n",
        "from sklearn.metrics import confusion_matrix\n",
        "\n",
        "# Assuming you have computed the confusion matrix and stored it in 'confusion'\n",
        "# If not, refer to the previous response for the code\n",
        "\n",
        "# Define class labels\n",
        "class_labels = ['positive', 'negative']\n",
        "\n",
        "# Create a heatmap\n",
        "plt.figure(figsize=(4, 4))\n",
        "confusion = confusion_matrix(actual_review, pred_review)\n",
        "\n",
        "sns.heatmap(confusion, annot=True, fmt='d', cmap='cool',\n",
        "            xticklabels=class_labels, yticklabels=class_labels)\n",
        "plt.xlabel('Predicted')\n",
        "plt.ylabel('Actual')\n",
        "plt.title('Confusion Matrix')\n",
        "plt.show()\n"
      ],
      "metadata": {
        "colab": {
          "base_uri": "https://localhost:8080/",
          "height": 410
        },
        "id": "5jxVd8vro3Oi",
        "outputId": "a23203e3-452e-4aff-ed3e-77469a4c6662"
      },
      "execution_count": 92,
      "outputs": [
        {
          "output_type": "display_data",
          "data": {
            "text/plain": [
              "<Figure size 400x400 with 2 Axes>"
            ],
            "image/png": "[encoded data removed]"
          },
          "metadata": {}
        }
      ]
    },
    {
      "cell_type": "code",
      "source": [
        "result = []\n",
        "for i in range(len(y_test)):\n",
        "    if actual_review[i] == pred_review[i]:\n",
        "        result.append('correct prediction')\n",
        "    else:\n",
        "        result.append('wrong prediction')\n",
        "\n",
        "\n",
        "test_table =  pd.DataFrame({'actual_sentiments': actual_review, 'prediction_review': pred_review, 'result': result})"
      ],
      "metadata": {
        "id": "3PrvzfRJgcid"
      },
      "execution_count": 87,
      "outputs": []
    },
    {
      "cell_type": "code",
      "source": [
        "test_table"
      ],
      "metadata": {
        "colab": {
          "base_uri": "https://localhost:8080/",
          "height": 990
        },
        "id": "CXQA_UFCjD2Z",
        "outputId": "cbf2f9dd-512d-4318-901d-40bf2037df6b"
      },
      "execution_count": 88,
      "outputs": [
        {
          "output_type": "execute_result",
          "data": {
            "text/plain": [
              "   actual_sentiments prediction_review              result\n",
              "0           negative          negative  correct prediction\n",
              "1           negative          negative  correct prediction\n",
              "2           positive          negative    wrong prediction\n",
              "3           negative          negative  correct prediction\n",
              "4           negative          negative  correct prediction\n",
              "5           negative          negative  correct prediction\n",
              "6           negative          negative  correct prediction\n",
              "7           negative          negative  correct prediction\n",
              "8           negative          negative  correct prediction\n",
              "9           negative          negative  correct prediction\n",
              "10          negative          negative  correct prediction\n",
              "11          negative          negative  correct prediction\n",
              "12          positive          negative    wrong prediction\n",
              "13          positive          negative    wrong prediction\n",
              "14          positive          negative    wrong prediction\n",
              "15          positive          negative    wrong prediction\n",
              "16          positive          negative    wrong prediction\n",
              "17          negative          negative  correct prediction\n",
              "18          negative          negative  correct prediction\n",
              "19          negative          negative  correct prediction\n",
              "20          negative          negative  correct prediction\n",
              "21          positive          negative    wrong prediction\n",
              "22          negative          negative  correct prediction\n",
              "23          negative          negative  correct prediction\n",
              "24          positive          negative    wrong prediction\n",
              "25          negative          negative  correct prediction\n",
              "26          negative          negative  correct prediction\n",
              "27          positive          negative    wrong prediction\n",
              "28          negative          negative  correct prediction\n",
              "29          negative          negative  correct prediction"
            ],
            "text/html": [
              "\n",
              "  <div id=\"df-35e4f6ff-53bf-4492-bf0c-476e9121e226\" class=\"colab-df-container\">\n",
              "    <div>\n",
              "<style scoped>\n",
              "    .dataframe tbody tr th:only-of-type {\n",
              "        vertical-align: middle;\n",
              "    }\n",
              "\n",
              "    .dataframe tbody tr th {\n",
              "        vertical-align: top;\n",
              "    }\n",
              "\n",
              "    .dataframe thead th {\n",
              "        text-align: right;\n",
              "    }\n",
              "</style>\n",
              "<table border=\"1\" class=\"dataframe\">\n",
              "  <thead>\n",
              "    <tr style=\"text-align: right;\">\n",
              "      <th></th>\n",
              "      <th>actual_sentiments</th>\n",
              "      <th>prediction_review</th>\n",
              "      <th>result</th>\n",
              "    </tr>\n",
              "  </thead>\n",
              "  <tbody>\n",
              "    <tr>\n",
              "      <th>0</th>\n",
              "      <td>negative</td>\n",
              "      <td>negative</td>\n",
              "      <td>correct prediction</td>\n",
              "    </tr>\n",
              "    <tr>\n",
              "      <th>1</th>\n",
              "      <td>negative</td>\n",
              "      <td>negative</td>\n",
              "      <td>correct prediction</td>\n",
              "    </tr>\n",
              "    <tr>\n",
              "      <th>2</th>\n",
              "      <td>positive</td>\n",
              "      <td>negative</td>\n",
              "      <td>wrong prediction</td>\n",
              "    </tr>\n",
              "    <tr>\n",
              "      <th>3</th>\n",
              "      <td>negative</td>\n",
              "      <td>negative</td>\n",
              "      <td>correct prediction</td>\n",
              "    </tr>\n",
              "    <tr>\n",
              "      <th>4</th>\n",
              "      <td>negative</td>\n",
              "      <td>negative</td>\n",
              "      <td>correct prediction</td>\n",
              "    </tr>\n",
              "    <tr>\n",
              "      <th>5</th>\n",
              "      <td>negative</td>\n",
              "      <td>negative</td>\n",
              "      <td>correct prediction</td>\n",
              "    </tr>\n",
              "    <tr>\n",
              "      <th>6</th>\n",
              "      <td>negative</td>\n",
              "      <td>negative</td>\n",
              "      <td>correct prediction</td>\n",
              "    </tr>\n",
              "    <tr>\n",
              "      <th>7</th>\n",
              "      <td>negative</td>\n",
              "      <td>negative</td>\n",
              "      <td>correct prediction</td>\n",
              "    </tr>\n",
              "    <tr>\n",
              "      <th>8</th>\n",
              "      <td>negative</td>\n",
              "      <td>negative</td>\n",
              "      <td>correct prediction</td>\n",
              "    </tr>\n",
              "    <tr>\n",
              "      <th>9</th>\n",
              "      <td>negative</td>\n",
              "      <td>negative</td>\n",
              "      <td>correct prediction</td>\n",
              "    </tr>\n",
              "    <tr>\n",
              "      <th>10</th>\n",
              "      <td>negative</td>\n",
              "      <td>negative</td>\n",
              "      <td>correct prediction</td>\n",
              "    </tr>\n",
              "    <tr>\n",
              "      <th>11</th>\n",
              "      <td>negative</td>\n",
              "      <td>negative</td>\n",
              "      <td>correct prediction</td>\n",
              "    </tr>\n",
              "    <tr>\n",
              "      <th>12</th>\n",
              "      <td>positive</td>\n",
              "      <td>negative</td>\n",
              "      <td>wrong prediction</td>\n",
              "    </tr>\n",
              "    <tr>\n",
              "      <th>13</th>\n",
              "      <td>positive</td>\n",
              "      <td>negative</td>\n",
              "      <td>wrong prediction</td>\n",
              "    </tr>\n",
              "    <tr>\n",
              "      <th>14</th>\n",
              "      <td>positive</td>\n",
              "      <td>negative</td>\n",
              "      <td>wrong prediction</td>\n",
              "    </tr>\n",
              "    <tr>\n",
              "      <th>15</th>\n",
              "      <td>positive</td>\n",
              "      <td>negative</td>\n",
              "      <td>wrong prediction</td>\n",
              "    </tr>\n",
              "    <tr>\n",
              "      <th>16</th>\n",
              "      <td>positive</td>\n",
              "      <td>negative</td>\n",
              "      <td>wrong prediction</td>\n",
              "    </tr>\n",
              "    <tr>\n",
              "      <th>17</th>\n",
              "      <td>negative</td>\n",
              "      <td>negative</td>\n",
              "      <td>correct prediction</td>\n",
              "    </tr>\n",
              "    <tr>\n",
              "      <th>18</th>\n",
              "      <td>negative</td>\n",
              "      <td>negative</td>\n",
              "      <td>correct prediction</td>\n",
              "    </tr>\n",
              "    <tr>\n",
              "      <th>19</th>\n",
              "      <td>negative</td>\n",
              "      <td>negative</td>\n",
              "      <td>correct prediction</td>\n",
              "    </tr>\n",
              "    <tr>\n",
              "      <th>20</th>\n",
              "      <td>negative</td>\n",
              "      <td>negative</td>\n",
              "      <td>correct prediction</td>\n",
              "    </tr>\n",
              "    <tr>\n",
              "      <th>21</th>\n",
              "      <td>positive</td>\n",
              "      <td>negative</td>\n",
              "      <td>wrong prediction</td>\n",
              "    </tr>\n",
              "    <tr>\n",
              "      <th>22</th>\n",
              "      <td>negative</td>\n",
              "      <td>negative</td>\n",
              "      <td>correct prediction</td>\n",
              "    </tr>\n",
              "    <tr>\n",
              "      <th>23</th>\n",
              "      <td>negative</td>\n",
              "      <td>negative</td>\n",
              "      <td>correct prediction</td>\n",
              "    </tr>\n",
              "    <tr>\n",
              "      <th>24</th>\n",
              "      <td>positive</td>\n",
              "      <td>negative</td>\n",
              "      <td>wrong prediction</td>\n",
              "    </tr>\n",
              "    <tr>\n",
              "      <th>25</th>\n",
              "      <td>negative</td>\n",
              "      <td>negative</td>\n",
              "      <td>correct prediction</td>\n",
              "    </tr>\n",
              "    <tr>\n",
              "      <th>26</th>\n",
              "      <td>negative</td>\n",
              "      <td>negative</td>\n",
              "      <td>correct prediction</td>\n",
              "    </tr>\n",
              "    <tr>\n",
              "      <th>27</th>\n",
              "      <td>positive</td>\n",
              "      <td>negative</td>\n",
              "      <td>wrong prediction</td>\n",
              "    </tr>\n",
              "    <tr>\n",
              "      <th>28</th>\n",
              "      <td>negative</td>\n",
              "      <td>negative</td>\n",
              "      <td>correct prediction</td>\n",
              "    </tr>\n",
              "    <tr>\n",
              "      <th>29</th>\n",
              "      <td>negative</td>\n",
              "      <td>negative</td>\n",
              "      <td>correct prediction</td>\n",
              "    </tr>\n",
              "  </tbody>\n",
              "</table>\n",
              "</div>\n",
              "    <div class=\"colab-df-buttons\">\n",
              "\n",
              "  <div class=\"colab-df-container\">\n",
              "    <button class=\"colab-df-convert\" onclick=\"convertToInteractive('df-35e4f6ff-53bf-4492-bf0c-476e9121e226')\"\n",
              "            title=\"Convert this dataframe to an interactive table.\"\n",
              "            style=\"display:none;\">\n",
              "\n",
              "  <svg xmlns=\"http://www.w3.org/2000/svg\" height=\"24px\" viewBox=\"0 -960 960 960\">\n",
              "    <path d=\"M120-120v-720h720v720H120Zm60-500h600v-160H180v160Zm220 220h160v-160H400v160Zm0 220h160v-160H400v160ZM180-400h160v-160H180v160Zm440 0h160v-160H620v160ZM180-180h160v-160H180v160Zm440 0h160v-160H620v160Z\"/>\n",
              "  </svg>\n",
              "    </button>\n",
              "\n",
              "  <style>\n",
              "    .colab-df-container {\n",
              "      display:flex;\n",
              "      gap: 12px;\n",
              "    }\n",
              "\n",
              "    .colab-df-convert {\n",
              "      background-color: #E8F0FE;\n",
              "      border: none;\n",
              "      border-radius: 50%;\n",
              "      cursor: pointer;\n",
              "      display: none;\n",
              "      fill: #1967D2;\n",
              "      height: 32px;\n",
              "      padding: 0 0 0 0;\n",
              "      width: 32px;\n",
              "    }\n",
              "\n",
              "    .colab-df-convert:hover {\n",
              "      background-color: #E2EBFA;\n",
              "      box-shadow: 0px 1px 2px rgba(60, 64, 67, 0.3), 0px 1px 3px 1px rgba(60, 64, 67, 0.15);\n",
              "      fill: #174EA6;\n",
              "    }\n",
              "\n",
              "    .colab-df-buttons div {\n",
              "      margin-bottom: 4px;\n",
              "    }\n",
              "\n",
              "    [theme=dark] .colab-df-convert {\n",
              "      background-color: #3B4455;\n",
              "      fill: #D2E3FC;\n",
              "    }\n",
              "\n",
              "    [theme=dark] .colab-df-convert:hover {\n",
              "      background-color: #434B5C;\n",
              "      box-shadow: 0px 1px 3px 1px rgba(0, 0, 0, 0.15);\n",
              "      filter: drop-shadow(0px 1px 2px rgba(0, 0, 0, 0.3));\n",
              "      fill: #FFFFFF;\n",
              "    }\n",
              "  </style>\n",
              "\n",
              "    <script>\n",
              "      const buttonEl =\n",
              "        document.querySelector('#df-35e4f6ff-53bf-4492-bf0c-476e9121e226 button.colab-df-convert');\n",
              "      buttonEl.style.display =\n",
              "        google.colab.kernel.accessAllowed ? 'block' : 'none';\n",
              "\n",
              "      async function convertToInteractive(key) {\n",
              "        const element = document.querySelector('#df-35e4f6ff-53bf-4492-bf0c-476e9121e226');\n",
              "        const dataTable =\n",
              "          await google.colab.kernel.invokeFunction('convertToInteractive',\n",
              "                                                    [key], {});\n",
              "        if (!dataTable) return;\n",
              "\n",
              "        const docLinkHtml = 'Like what you see? Visit the ' +\n",
              "          '<a target=\"_blank\" href=https://colab.research.google.com/notebooks/data_table.ipynb>data table notebook</a>'\n",
              "          + ' to learn more about interactive tables.';\n",
              "        element.innerHTML = '';\n",
              "        dataTable['output_type'] = 'display_data';\n",
              "        await google.colab.output.renderOutput(dataTable, element);\n",
              "        const docLink = document.createElement('div');\n",
              "        docLink.innerHTML = docLinkHtml;\n",
              "        element.appendChild(docLink);\n",
              "      }\n",
              "    </script>\n",
              "  </div>\n",
              "\n",
              "\n",
              "<div id=\"df-298a251f-daf9-4f3f-a3cd-d763719ef7cb\">\n",
              "  <button class=\"colab-df-quickchart\" onclick=\"quickchart('df-298a251f-daf9-4f3f-a3cd-d763719ef7cb')\"\n",
              "            title=\"Suggest charts.\"\n",
              "            style=\"display:none;\">\n",
              "\n",
              "<svg xmlns=\"http://www.w3.org/2000/svg\" height=\"24px\"viewBox=\"0 0 24 24\"\n",
              "     width=\"24px\">\n",
              "    <g>\n",
              "        <path d=\"M19 3H5c-1.1 0-2 .9-2 2v14c0 1.1.9 2 2 2h14c1.1 0 2-.9 2-2V5c0-1.1-.9-2-2-2zM9 17H7v-7h2v7zm4 0h-2V7h2v10zm4 0h-2v-4h2v4z\"/>\n",
              "    </g>\n",
              "</svg>\n",
              "  </button>\n",
              "\n",
              "<style>\n",
              "  .colab-df-quickchart {\n",
              "      --bg-color: #E8F0FE;\n",
              "      --fill-color: #1967D2;\n",
              "      --hover-bg-color: #E2EBFA;\n",
              "      --hover-fill-color: #174EA6;\n",
              "      --disabled-fill-color: #AAA;\n",
              "      --disabled-bg-color: #DDD;\n",
              "  }\n",
              "\n",
              "  [theme=dark] .colab-df-quickchart {\n",
              "      --bg-color: #3B4455;\n",
              "      --fill-color: #D2E3FC;\n",
              "      --hover-bg-color: #434B5C;\n",
              "      --hover-fill-color: #FFFFFF;\n",
              "      --disabled-bg-color: #3B4455;\n",
              "      --disabled-fill-color: #666;\n",
              "  }\n",
              "\n",
              "  .colab-df-quickchart {\n",
              "    background-color: var(--bg-color);\n",
              "    border: none;\n",
              "    border-radius: 50%;\n",
              "    cursor: pointer;\n",
              "    display: none;\n",
              "    fill: var(--fill-color);\n",
              "    height: 32px;\n",
              "    padding: 0;\n",
              "    width: 32px;\n",
              "  }\n",
              "\n",
              "  .colab-df-quickchart:hover {\n",
              "    background-color: var(--hover-bg-color);\n",
              "    box-shadow: 0 1px 2px rgba(60, 64, 67, 0.3), 0 1px 3px 1px rgba(60, 64, 67, 0.15);\n",
              "    fill: var(--button-hover-fill-color);\n",
              "  }\n",
              "\n",
              "  .colab-df-quickchart-complete:disabled,\n",
              "  .colab-df-quickchart-complete:disabled:hover {\n",
              "    background-color: var(--disabled-bg-color);\n",
              "    fill: var(--disabled-fill-color);\n",
              "    box-shadow: none;\n",
              "  }\n",
              "\n",
              "  .colab-df-spinner {\n",
              "    border: 2px solid var(--fill-color);\n",
              "    border-color: transparent;\n",
              "    border-bottom-color: var(--fill-color);\n",
              "    animation:\n",
              "      spin 1s steps(1) infinite;\n",
              "  }\n",
              "\n",
              "  @keyframes spin {\n",
              "    0% {\n",
              "      border-color: transparent;\n",
              "      border-bottom-color: var(--fill-color);\n",
              "      border-left-color: var(--fill-color);\n",
              "    }\n",
              "    20% {\n",
              "      border-color: transparent;\n",
              "      border-left-color: var(--fill-color);\n",
              "      border-top-color: var(--fill-color);\n",
              "    }\n",
              "    30% {\n",
              "      border-color: transparent;\n",
              "      border-left-color: var(--fill-color);\n",
              "      border-top-color: var(--fill-color);\n",
              "      border-right-color: var(--fill-color);\n",
              "    }\n",
              "    40% {\n",
              "      border-color: transparent;\n",
              "      border-right-color: var(--fill-color);\n",
              "      border-top-color: var(--fill-color);\n",
              "    }\n",
              "    60% {\n",
              "      border-color: transparent;\n",
              "      border-right-color: var(--fill-color);\n",
              "    }\n",
              "    80% {\n",
              "      border-color: transparent;\n",
              "      border-right-color: var(--fill-color);\n",
              "      border-bottom-color: var(--fill-color);\n",
              "    }\n",
              "    90% {\n",
              "      border-color: transparent;\n",
              "      border-bottom-color: var(--fill-color);\n",
              "    }\n",
              "  }\n",
              "</style>\n",
              "\n",
              "  <script>\n",
              "    async function quickchart(key) {\n",
              "      const quickchartButtonEl =\n",
              "        document.querySelector('#' + key + ' button');\n",
              "      quickchartButtonEl.disabled = true;  // To prevent multiple clicks.\n",
              "      quickchartButtonEl.classList.add('colab-df-spinner');\n",
              "      try {\n",
              "        const charts = await google.colab.kernel.invokeFunction(\n",
              "            'suggestCharts', [key], {});\n",
              "      } catch (error) {\n",
              "        console.error('Error during call to suggestCharts:', error);\n",
              "      }\n",
              "      quickchartButtonEl.classList.remove('colab-df-spinner');\n",
              "      quickchartButtonEl.classList.add('colab-df-quickchart-complete');\n",
              "    }\n",
              "    (() => {\n",
              "      let quickchartButtonEl =\n",
              "        document.querySelector('#df-298a251f-daf9-4f3f-a3cd-d763719ef7cb button');\n",
              "      quickchartButtonEl.style.display =\n",
              "        google.colab.kernel.accessAllowed ? 'block' : 'none';\n",
              "    })();\n",
              "  </script>\n",
              "</div>\n",
              "    </div>\n",
              "  </div>\n"
            ]
          },
          "metadata": {},
          "execution_count": 88
        }
      ]
    },
    {
      "cell_type": "markdown",
      "source": [
        "---\n",
        "---"
      ],
      "metadata": {
        "id": "E3y6WMCvn0VG"
      }
    },
    {
      "cell_type": "code",
      "source": [],
      "metadata": {
        "id": "DggXONLGlGoz"
      },
      "execution_count": null,
      "outputs": []
    }
  ]
}